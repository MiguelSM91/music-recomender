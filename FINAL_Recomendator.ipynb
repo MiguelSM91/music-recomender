{
 "cells": [
  {
   "cell_type": "markdown",
   "metadata": {},
   "source": [
    "## Import  modules and datasets "
   ]
  },
  {
   "cell_type": "code",
   "execution_count": 1,
   "metadata": {},
   "outputs": [],
   "source": [
    "import pandas as pd\n",
    "import random\n",
    "import spotipy\n",
    "from spotipy.oauth2 import SpotifyClientCredentials\n",
    "from sklearn.preprocessing import StandardScaler\n",
    "from sklearn.cluster import KMeans"
   ]
  },
  {
   "cell_type": "markdown",
   "metadata": {},
   "source": [
    "##### Initialize the spotify user account"
   ]
  },
  {
   "cell_type": "code",
   "execution_count": 2,
   "metadata": {},
   "outputs": [],
   "source": [
    "spotify = spotipy.Spotify(client_credentials_manager=SpotifyClientCredentials(\n",
    "    client_id=\"320d32b1cdff443d9f8498b16f9cf9ea\",\n",
    "    client_secret=\"290b630ee62d4ce19b3b244984190fa6\"))"
   ]
  },
  {
   "cell_type": "markdown",
   "metadata": {},
   "source": [
    "Note: These lists haven been  created in this project using web scrapping and spotify API"
   ]
  },
  {
   "cell_type": "code",
   "execution_count": 4,
   "metadata": {},
   "outputs": [],
   "source": [
    "hits_now = pd.read_csv(\"./Data/hits.csv\",index_col=0)\n",
    "hits_old = pd.read_csv(\"./Data/old_hits.csv\",index_col=0)\n",
    "old_artists = pd.read_csv(\"./Data/old_artists.csv\",index_col=0)\n",
    "songs_1000 = pd.read_csv(\"./Data/songs_1000_clusters.csv\", index_col=0)\n",
    "everybody_df = pd.read_csv(\"./Data/everybody_df.csv\", index_col=0)\n",
    "hits_old.columns = [\"70s\",\"80s\",\"90s\",\"00s\",\"10s\"]\n",
    "old_artists.columns = [\"70s\",\"80s\",\"90s\",\"00s\",\"10s\"]"
   ]
  },
  {
   "cell_type": "markdown",
   "metadata": {},
   "source": [
    "-------------------------"
   ]
  },
  {
   "cell_type": "markdown",
   "metadata": {},
   "source": [
    "## Prepare the clustering"
   ]
  },
  {
   "cell_type": "markdown",
   "metadata": {},
   "source": [
    "Note: The clusters are already created and added to the songs_1000 dataframe, but we need to fit the scaler with the data from these songs in order to fit also the kmeans function. Doing this, we will be able to assign the input song to one of the already created clusters."
   ]
  },
  {
   "cell_type": "code",
   "execution_count": 5,
   "metadata": {},
   "outputs": [
    {
     "data": {
      "text/html": [
       "<div>\n",
       "<style scoped>\n",
       "    .dataframe tbody tr th:only-of-type {\n",
       "        vertical-align: middle;\n",
       "    }\n",
       "\n",
       "    .dataframe tbody tr th {\n",
       "        vertical-align: top;\n",
       "    }\n",
       "\n",
       "    .dataframe thead th {\n",
       "        text-align: right;\n",
       "    }\n",
       "</style>\n",
       "<table border=\"1\" class=\"dataframe\">\n",
       "  <thead>\n",
       "    <tr style=\"text-align: right;\">\n",
       "      <th></th>\n",
       "      <th>Energy</th>\n",
       "      <th>Tempo</th>\n",
       "      <th>Danceability</th>\n",
       "      <th>Instrumentalness</th>\n",
       "      <th>Valence</th>\n",
       "    </tr>\n",
       "  </thead>\n",
       "  <tbody>\n",
       "    <tr>\n",
       "      <td>0</td>\n",
       "      <td>0.257</td>\n",
       "      <td>75.752</td>\n",
       "      <td>0.547</td>\n",
       "      <td>0.183000</td>\n",
       "      <td>0.169</td>\n",
       "    </tr>\n",
       "    <tr>\n",
       "      <td>1</td>\n",
       "      <td>0.660</td>\n",
       "      <td>149.813</td>\n",
       "      <td>0.249</td>\n",
       "      <td>0.002600</td>\n",
       "      <td>0.435</td>\n",
       "    </tr>\n",
       "    <tr>\n",
       "      <td>2</td>\n",
       "      <td>0.685</td>\n",
       "      <td>120.965</td>\n",
       "      <td>0.537</td>\n",
       "      <td>0.000000</td>\n",
       "      <td>0.542</td>\n",
       "    </tr>\n",
       "    <tr>\n",
       "      <td>3</td>\n",
       "      <td>0.487</td>\n",
       "      <td>117.072</td>\n",
       "      <td>0.521</td>\n",
       "      <td>0.000000</td>\n",
       "      <td>0.483</td>\n",
       "    </tr>\n",
       "    <tr>\n",
       "      <td>4</td>\n",
       "      <td>0.206</td>\n",
       "      <td>79.764</td>\n",
       "      <td>0.149</td>\n",
       "      <td>0.000649</td>\n",
       "      <td>0.264</td>\n",
       "    </tr>\n",
       "  </tbody>\n",
       "</table>\n",
       "</div>"
      ],
      "text/plain": [
       "   Energy    Tempo  Danceability  Instrumentalness  Valence\n",
       "0   0.257   75.752         0.547          0.183000    0.169\n",
       "1   0.660  149.813         0.249          0.002600    0.435\n",
       "2   0.685  120.965         0.537          0.000000    0.542\n",
       "3   0.487  117.072         0.521          0.000000    0.483\n",
       "4   0.206   79.764         0.149          0.000649    0.264"
      ]
     },
     "execution_count": 5,
     "metadata": {},
     "output_type": "execute_result"
    }
   ],
   "source": [
    "songs_1000_toclusters = songs_1000.iloc[:,2:7]\n",
    "songs_1000_toclusters.head()"
   ]
  },
  {
   "cell_type": "code",
   "execution_count": 9,
   "metadata": {},
   "outputs": [
    {
     "data": {
      "text/plain": [
       "StandardScaler(copy=True, with_mean=True, with_std=True)"
      ]
     },
     "execution_count": 9,
     "metadata": {},
     "output_type": "execute_result"
    }
   ],
   "source": [
    "scaler = StandardScaler()\n",
    "scaler.fit(songs_1000_toclusters)"
   ]
  },
  {
   "cell_type": "code",
   "execution_count": 10,
   "metadata": {},
   "outputs": [],
   "source": [
    "tracks_scaled = scaler.transform(songs_1000_toclusters)\n",
    "tracks_scaled_df = pd.DataFrame(tracks_scaled)"
   ]
  },
  {
   "cell_type": "code",
   "execution_count": 12,
   "metadata": {},
   "outputs": [
    {
     "data": {
      "text/plain": [
       "KMeans(algorithm='auto', copy_x=True, init='k-means++', max_iter=300,\n",
       "       n_clusters=8, n_init=10, n_jobs=None, precompute_distances='auto',\n",
       "       random_state=None, tol=0.0001, verbose=0)"
      ]
     },
     "execution_count": 12,
     "metadata": {},
     "output_type": "execute_result"
    }
   ],
   "source": [
    "kmeans = KMeans()\n",
    "kmeans.fit(tracks_scaled)"
   ]
  },
  {
   "cell_type": "markdown",
   "metadata": {},
   "source": [
    "--------"
   ]
  },
  {
   "cell_type": "markdown",
   "metadata": {},
   "source": [
    "## Design the whole flow"
   ]
  },
  {
   "cell_type": "markdown",
   "metadata": {},
   "source": [
    "##### 1. Ask for an input, if it is an actual hit, return another one. If it is an old hit, return one from the same decade."
   ]
  },
  {
   "cell_type": "code",
   "execution_count": 88,
   "metadata": {},
   "outputs": [
    {
     "name": "stdout",
     "output_type": "stream",
     "text": [
      "Hello! Please, write a song or artist you like. \n",
      "\n",
      "vogue\n",
      "Great song from last decade! \n",
      "This one was also great: \u001b[1mPromiscuous\u001b[0m by \u001b[1mNelly Furtado Featuring Timbaland\n"
     ]
    }
   ],
   "source": [
    "print(\"Hello! Please, write a song or artist you like. \\n\")\n",
    "request = input().title()\n",
    "\n",
    "if request in list(hits_now[\"song\"]):\n",
    "    title=random.choice(hits_now[\"song\"])\n",
    "    artist = hits_now[hits_now[\"song\"]==title][\"artist\"].values[0]\n",
    "    print(\"Cool! Maybe you would like this song: \"+'\\033[1m'+ title +'\\033[0m'+ \" by \" +'\\033[1m'+ artist)\n",
    "    \n",
    "    \n",
    "elif request in list(hits_old[\"10s\"]):\n",
    "    title=random.choice(hits_old[\"10s\"])\n",
    "    artist = old_artists[hits_old[\"10s\"]==title][\"10s\"].values[0]\n",
    "    print(\"Great song from last decade! \\nThis one was also great: \"+'\\033[1m'+ title +'\\033[0m'+ \" by \" +'\\033[1m'+ artist)\n",
    "    \n",
    "    \n",
    "elif request in list(hits_old[\"00s\"]):\n",
    "    title=random.choice(hits_old[\"00s\"])\n",
    "    artist = old_artists[hits_old[\"00s\"]==title][\"00s\"].values[0]\n",
    "    print(\"Great song from the 2000s! \\nThis one was also great: \"+'\\033[1m'+ title +'\\033[0m'+ \" by \" +'\\033[1m'+ artist)\n",
    "    \n",
    "        \n",
    "        \n",
    "elif request in list(hits_old[\"90s\"]):\n",
    "    title=random.choice(hits_old[\"90s\"])\n",
    "    artist = old_artists[hits_old[\"90s\"]==title][\"90s\"].values[0]\n",
    "    print(\"Great song from the 90s! \\nThis one was also great: \"+'\\033[1m'+ title +'\\033[0m'+ \" by \" +'\\033[1m'+ artist)\n",
    "    \n",
    "        \n",
    "        \n",
    "elif request in list(hits_old[\"80s\"]):\n",
    "    title=random.choice(hits_old[\"80s\"])\n",
    "    artist = old_artists[hits_old[\"80s\"]==title][\"80s\"].values[0]\n",
    "    print(\"Great song from the 80s! \\nThis one was also great: \"+'\\033[1m'+ title +'\\033[0m'+ \" by \" +'\\033[1m'+ artist)\n",
    "    \n",
    "        \n",
    "        \n",
    "elif request in list(hits_old[\"70s\"]):\n",
    "    title=random.choice(hits_old[\"70s\"])\n",
    "    artist = old_artists[hits_old[\"70s\"]==title][\"70s\"].values[0]\n",
    "    print(\"Great song from the 70s! \\nThis one was also great: \"+'\\033[1m'+ title +'\\033[0m'+ \" by \" +'\\033[1m'+ artist)\n",
    "    \n",
    "    \n",
    "    \n",
    "else:\n",
    "    print(\"hey\")#substitute here for the clustering-based selection "
   ]
  },
  {
   "cell_type": "markdown",
   "metadata": {},
   "source": [
    "##### 2. If the input song is not an actual hit either an old hit, cluster the song and return another one from the same cluster from our database."
   ]
  },
  {
   "cell_type": "code",
   "execution_count": 47,
   "metadata": {},
   "outputs": [],
   "source": [
    "def get_recomendation_cluster(request):\n",
    "    \n",
    "    song = spotify.search(q=request, limit=1)\n",
    "    song_URI = song[\"tracks\"][\"items\"][0][\"uri\"]\n",
    "    \n",
    "    features = spotify.audio_features(song_URI)[0]\n",
    "    feat = pd.DataFrame({\"energy\":features[\"energy\"],\n",
    "           \"tempo\":features[\"tempo\"],\n",
    "           \"danceabilty\":features[\"danceability\"],\n",
    "           \"instrumentalness\":features[\"instrumentalness\"],\n",
    "           \"valence\":features[\"valence\"]},index=[0])\n",
    "    \n",
    "    feat_scaled = pd.DataFrame(scaler.transform(feat))\n",
    "    feat_cluster = kmeans.predict(feat_scaled)\n",
    "    cluster = feat_cluster[0]\n",
    "    \n",
    "    one_cluster = songs_1000[songs_1000[\"Cluster\"]==cluster]\n",
    "    title = one_cluster.sample()[\"Title\"].values[0]\n",
    "    artist = songs_1000[songs_1000[\"Title\"]==title][\"Artist\"].values[0]\n",
    "    print(\"Great! Your should listen this: \"+'\\033[1m' + title +'\\033[0m'+ \" by \"+'\\033[1m'+ artist)"
   ]
  },
  {
   "cell_type": "code",
   "execution_count": 48,
   "metadata": {},
   "outputs": [
    {
     "name": "stdout",
     "output_type": "stream",
     "text": [
      "Great! Your should listen this: \u001b[1mSexual Healing\u001b[0m by \u001b[1mMarvin Gaye\n"
     ]
    }
   ],
   "source": [
    "get_recomendation_cluster(\"rabiosa\")"
   ]
  },
  {
   "cell_type": "markdown",
   "metadata": {},
   "source": [
    "##### 3. If the input is a symbol (eg. *, +, etc) or an unidentified song, return one song from the \"songs known by everybody\" list."
   ]
  },
  {
   "cell_type": "code",
   "execution_count": 36,
   "metadata": {},
   "outputs": [
    {
     "name": "stdout",
     "output_type": "stream",
     "text": [
      "Great! Your should listen this: War Pigs by Black Sabbath\n"
     ]
    }
   ],
   "source": [
    "try:\n",
    "    get_recomendation_cluster(request)\n",
    "    \n",
    "except:\n",
    "    title = everybody_df.sample()[\"Title\"].values[0]\n",
    "    artist = everybody_df[everybody_df[\"Title\"]==title][\"Artist\"].values[0]\n",
    "    print(\"We couldn't recognize your song, but we are sure you will love this: \"+'\\033[1m' + title + \" by \"+ artist)"
   ]
  },
  {
   "cell_type": "markdown",
   "metadata": {},
   "source": [
    "-------"
   ]
  },
  {
   "cell_type": "markdown",
   "metadata": {},
   "source": [
    "## Create a function with everythin"
   ]
  },
  {
   "cell_type": "code",
   "execution_count": 142,
   "metadata": {},
   "outputs": [],
   "source": [
    "def song_recomendator():\n",
    "    print(\"Hello! Please, write a song you like. \\n\")\n",
    "    request = input().title()\n",
    "\n",
    "    if request in list(hits_now[\"song\"]):\n",
    "        title=random.choice(hits_now[\"song\"])\n",
    "        artist = hits_now[hits_now[\"song\"]==title][\"artist\"].values[0]\n",
    "        print(\"Cool! Maybe you would like this song: \"+'\\033[1m'+ title +'\\033[0m'+ \" by \" +'\\033[1m'+ artist)\n",
    "\n",
    "\n",
    "    elif request in list(hits_old[\"10s\"]):\n",
    "        title=random.choice(hits_old[\"10s\"])\n",
    "        artist = old_artists[hits_old[\"10s\"]==title][\"10s\"].values[0]\n",
    "        print(\"Great song from last decade! \\nThis one was also great: \"+'\\033[1m'+ title +'\\033[0m'+ \" by \" +'\\033[1m'+ artist)\n",
    "\n",
    "\n",
    "    elif request in list(hits_old[\"00s\"]):\n",
    "        title=random.choice(hits_old[\"00s\"])\n",
    "        artist = old_artists[hits_old[\"00s\"]==title][\"00s\"].values[0]\n",
    "        print(\"Great song from the 2000s! \\nThis one was also great: \"+'\\033[1m'+ title +'\\033[0m'+ \" by \" +'\\033[1m'+ artist)\n",
    "\n",
    "\n",
    "\n",
    "    elif request in list(hits_old[\"90s\"]):\n",
    "        title=random.choice(hits_old[\"90s\"])\n",
    "        artist = old_artists[hits_old[\"90s\"]==title][\"90s\"].values[0]\n",
    "        print(\"Great song from the 90s! \\nThis one was also great: \"+'\\033[1m'+ title +'\\033[0m'+ \" by \" +'\\033[1m'+ artist)\n",
    "\n",
    "\n",
    "\n",
    "    elif request in list(hits_old[\"80s\"]):\n",
    "        title=random.choice(hits_old[\"80s\"])\n",
    "        artist = old_artists[hits_old[\"80s\"]==title][\"80s\"].values[0]\n",
    "        print(\"Great song from the 80s! \\nThis one was also great: \"+'\\033[1m'+ title +'\\033[0m'+ \" by \" +'\\033[1m'+ artist)\n",
    "\n",
    "\n",
    "\n",
    "    elif request in list(hits_old[\"70s\"]):\n",
    "        title=random.choice(hits_old[\"70s\"])\n",
    "        artist = old_artists[hits_old[\"70s\"]==title][\"70s\"].values[0]\n",
    "        print(\"Great song from the 80s! \\nThis one was also great: \"+'\\033[1m'+ title +'\\033[0m'+ \" by \" +'\\033[1m'+ artist)\n",
    "    \n",
    "\n",
    "    else:\n",
    "        try:\n",
    "            get_recomendation_cluster(request)\n",
    "    \n",
    "        except:\n",
    "            title = everybody_df.sample()[\"Title\"].values[0]\n",
    "            artist = everybody_df[everybody_df[\"Title\"]==title][\"Artist\"].values[0]\n",
    "            print(\"We couldn't recognize your song, but we are sure you will love this one: \" + '\\033[1m'+ title +'\\033[0m'+ \" by \"+'\\033[1m'+ artist)"
   ]
  },
  {
   "cell_type": "code",
   "execution_count": null,
   "metadata": {},
   "outputs": [],
   "source": []
  },
  {
   "cell_type": "code",
   "execution_count": null,
   "metadata": {},
   "outputs": [],
   "source": []
  },
  {
   "cell_type": "code",
   "execution_count": 188,
   "metadata": {
    "scrolled": true
   },
   "outputs": [
    {
     "name": "stdout",
     "output_type": "stream",
     "text": [
      "Hello! Please, write a song you like. \n",
      "\n",
      "vogue\n",
      "Great song from the 90s! \n",
      "This one was also great: \u001b[1mFar Away\u001b[0m by \u001b[1mNickelback\n"
     ]
    }
   ],
   "source": [
    "song_recomendator()"
   ]
  },
  {
   "cell_type": "code",
   "execution_count": null,
   "metadata": {},
   "outputs": [],
   "source": []
  },
  {
   "cell_type": "code",
   "execution_count": null,
   "metadata": {},
   "outputs": [],
   "source": []
  },
  {
   "cell_type": "code",
   "execution_count": null,
   "metadata": {},
   "outputs": [],
   "source": []
  },
  {
   "cell_type": "code",
   "execution_count": null,
   "metadata": {},
   "outputs": [],
   "source": []
  },
  {
   "cell_type": "code",
   "execution_count": null,
   "metadata": {},
   "outputs": [],
   "source": []
  },
  {
   "cell_type": "code",
   "execution_count": null,
   "metadata": {},
   "outputs": [],
   "source": []
  },
  {
   "cell_type": "code",
   "execution_count": null,
   "metadata": {},
   "outputs": [],
   "source": []
  }
 ],
 "metadata": {
  "kernelspec": {
   "display_name": "Python 3",
   "language": "python",
   "name": "python3"
  },
  "language_info": {
   "codemirror_mode": {
    "name": "ipython",
    "version": 3
   },
   "file_extension": ".py",
   "mimetype": "text/x-python",
   "name": "python",
   "nbconvert_exporter": "python",
   "pygments_lexer": "ipython3",
   "version": "3.7.4"
  }
 },
 "nbformat": 4,
 "nbformat_minor": 2
}
