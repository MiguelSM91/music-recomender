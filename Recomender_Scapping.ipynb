{
 "cells": [
  {
   "cell_type": "markdown",
   "metadata": {},
   "source": [
    "# Music project"
   ]
  },
  {
   "cell_type": "code",
   "execution_count": 2,
   "metadata": {},
   "outputs": [],
   "source": [
    "from bs4 import BeautifulSoup\n",
    "import requests"
   ]
  },
  {
   "cell_type": "markdown",
   "metadata": {},
   "source": [
    "### From the web, generate the soup"
   ]
  },
  {
   "cell_type": "code",
   "execution_count": 3,
   "metadata": {},
   "outputs": [],
   "source": [
    "url = \"https://www.billboard.com/charts/hot-100\""
   ]
  },
  {
   "cell_type": "code",
   "execution_count": 4,
   "metadata": {},
   "outputs": [],
   "source": [
    "response = requests.get(url)"
   ]
  },
  {
   "cell_type": "code",
   "execution_count": 5,
   "metadata": {},
   "outputs": [
    {
     "data": {
      "text/plain": [
       "<Response [200]>"
      ]
     },
     "execution_count": 5,
     "metadata": {},
     "output_type": "execute_result"
    }
   ],
   "source": [
    "response"
   ]
  },
  {
   "cell_type": "code",
   "execution_count": 6,
   "metadata": {},
   "outputs": [],
   "source": [
    "soup = BeautifulSoup(response.content, \"html.parser\")"
   ]
  },
  {
   "cell_type": "code",
   "execution_count": 7,
   "metadata": {},
   "outputs": [
    {
     "data": {
      "text/plain": [
       "'Positions'"
      ]
     },
     "execution_count": 7,
     "metadata": {},
     "output_type": "execute_result"
    }
   ],
   "source": [
    "soup.select(\"span.chart-element__information__song.text--truncate.color--primary\")[0].get_text()"
   ]
  },
  {
   "cell_type": "markdown",
   "metadata": {},
   "source": [
    "### Generate a DataFrame, taking TOP100 songs and the artist (week on chart optional)"
   ]
  },
  {
   "cell_type": "code",
   "execution_count": 8,
   "metadata": {},
   "outputs": [
    {
     "data": {
      "text/plain": [
       "'Positions'"
      ]
     },
     "execution_count": 8,
     "metadata": {},
     "output_type": "execute_result"
    }
   ],
   "source": [
    "soup.select(\"span.chart-element__information__song.text--truncate.color--primary\")[0].get_text()"
   ]
  },
  {
   "cell_type": "code",
   "execution_count": 9,
   "metadata": {},
   "outputs": [],
   "source": [
    "titles = []\n",
    "\n",
    "for song in soup.select(\"span.chart-element__information__song.text--truncate.color--primary\"):\n",
    "    titles.append(song.get_text())"
   ]
  },
  {
   "cell_type": "code",
   "execution_count": 10,
   "metadata": {},
   "outputs": [
    {
     "data": {
      "text/plain": [
       "100"
      ]
     },
     "execution_count": 10,
     "metadata": {},
     "output_type": "execute_result"
    }
   ],
   "source": [
    "len(titles)"
   ]
  },
  {
   "cell_type": "code",
   "execution_count": 11,
   "metadata": {},
   "outputs": [
    {
     "data": {
      "text/plain": [
       "'Ariana Grande'"
      ]
     },
     "execution_count": 11,
     "metadata": {},
     "output_type": "execute_result"
    }
   ],
   "source": [
    "soup.select(\"span.chart-element__information__artist.text--truncate.color--secondary\")[0].get_text()"
   ]
  },
  {
   "cell_type": "code",
   "execution_count": 12,
   "metadata": {},
   "outputs": [],
   "source": [
    "artists = []\n",
    "\n",
    "for artist in soup.select(\"span.chart-element__information__artist.text--truncate.color--secondary\"):\n",
    "    artists.append(artist.get_text())"
   ]
  },
  {
   "cell_type": "code",
   "execution_count": 13,
   "metadata": {
    "scrolled": true
   },
   "outputs": [
    {
     "data": {
      "text/plain": [
       "100"
      ]
     },
     "execution_count": 13,
     "metadata": {},
     "output_type": "execute_result"
    }
   ],
   "source": [
    "len(artists)"
   ]
  },
  {
   "cell_type": "code",
   "execution_count": 13,
   "metadata": {},
   "outputs": [
    {
     "data": {
      "text/plain": [
       "'11'"
      ]
     },
     "execution_count": 13,
     "metadata": {},
     "output_type": "execute_result"
    }
   ],
   "source": [
    "soup.select(\".chart-element__meta.text--center.color--secondary.text--week\")[0].get_text()"
   ]
  },
  {
   "cell_type": "code",
   "execution_count": 14,
   "metadata": {},
   "outputs": [],
   "source": [
    "weeks = []\n",
    "\n",
    "for number in soup.select(\".chart-element__meta.text--center.color--secondary.text--week\"):\n",
    "    weeks.append(number.get_text())"
   ]
  },
  {
   "cell_type": "code",
   "execution_count": 15,
   "metadata": {},
   "outputs": [
    {
     "data": {
      "text/plain": [
       "100"
      ]
     },
     "execution_count": 15,
     "metadata": {},
     "output_type": "execute_result"
    }
   ],
   "source": [
    "len(weeks)"
   ]
  },
  {
   "cell_type": "code",
   "execution_count": 14,
   "metadata": {},
   "outputs": [],
   "source": [
    "import pandas as pd"
   ]
  },
  {
   "cell_type": "code",
   "execution_count": 15,
   "metadata": {},
   "outputs": [],
   "source": [
    "hits = pd.DataFrame({\n",
    "    \"song\":titles,\n",
    "    \"artist\":artists,\n",
    "})"
   ]
  },
  {
   "cell_type": "code",
   "execution_count": 16,
   "metadata": {},
   "outputs": [],
   "source": [
    "hits.to_csv(\"./hits.csv\")"
   ]
  },
  {
   "cell_type": "code",
   "execution_count": 174,
   "metadata": {},
   "outputs": [],
   "source": [
    "hits[\"song\"] = hits[\"song\"].apply(lambda x: x.lower())"
   ]
  },
  {
   "cell_type": "code",
   "execution_count": 175,
   "metadata": {},
   "outputs": [],
   "source": [
    "hits[\"artist\"] = hits[\"artist\"].apply(lambda x: x.lower())"
   ]
  },
  {
   "cell_type": "code",
   "execution_count": 176,
   "metadata": {
    "scrolled": true
   },
   "outputs": [
    {
     "data": {
      "text/html": [
       "<div>\n",
       "<style scoped>\n",
       "    .dataframe tbody tr th:only-of-type {\n",
       "        vertical-align: middle;\n",
       "    }\n",
       "\n",
       "    .dataframe tbody tr th {\n",
       "        vertical-align: top;\n",
       "    }\n",
       "\n",
       "    .dataframe thead th {\n",
       "        text-align: right;\n",
       "    }\n",
       "</style>\n",
       "<table border=\"1\" class=\"dataframe\">\n",
       "  <thead>\n",
       "    <tr style=\"text-align: right;\">\n",
       "      <th></th>\n",
       "      <th>song</th>\n",
       "      <th>artist</th>\n",
       "      <th>weeks on chart</th>\n",
       "    </tr>\n",
       "  </thead>\n",
       "  <tbody>\n",
       "    <tr>\n",
       "      <td>0</td>\n",
       "      <td>mood</td>\n",
       "      <td>24kgoldn featuring iann dior</td>\n",
       "      <td>11</td>\n",
       "    </tr>\n",
       "    <tr>\n",
       "      <td>1</td>\n",
       "      <td>wap</td>\n",
       "      <td>cardi b featuring megan thee stallion</td>\n",
       "      <td>11</td>\n",
       "    </tr>\n",
       "    <tr>\n",
       "      <td>2</td>\n",
       "      <td>laugh now cry later</td>\n",
       "      <td>drake featuring lil durk</td>\n",
       "      <td>10</td>\n",
       "    </tr>\n",
       "    <tr>\n",
       "      <td>3</td>\n",
       "      <td>blinding lights</td>\n",
       "      <td>the weeknd</td>\n",
       "      <td>47</td>\n",
       "    </tr>\n",
       "    <tr>\n",
       "      <td>4</td>\n",
       "      <td>savage love (laxed - siren beat)</td>\n",
       "      <td>jawsh 685 x jason derulo</td>\n",
       "      <td>19</td>\n",
       "    </tr>\n",
       "    <tr>\n",
       "      <td>...</td>\n",
       "      <td>...</td>\n",
       "      <td>...</td>\n",
       "      <td>...</td>\n",
       "    </tr>\n",
       "    <tr>\n",
       "      <td>95</td>\n",
       "      <td>caramelo</td>\n",
       "      <td>ozuna x karol g x myke towers</td>\n",
       "      <td>10</td>\n",
       "    </tr>\n",
       "    <tr>\n",
       "      <td>96</td>\n",
       "      <td>pardon</td>\n",
       "      <td>t.i. featuring lil baby</td>\n",
       "      <td>1</td>\n",
       "    </tr>\n",
       "    <tr>\n",
       "      <td>97</td>\n",
       "      <td>one too many</td>\n",
       "      <td>keith urban duet with p!nk</td>\n",
       "      <td>4</td>\n",
       "    </tr>\n",
       "    <tr>\n",
       "      <td>98</td>\n",
       "      <td>dollaz on my head</td>\n",
       "      <td>gunna featuring young thug</td>\n",
       "      <td>19</td>\n",
       "    </tr>\n",
       "    <tr>\n",
       "      <td>99</td>\n",
       "      <td>champagne night</td>\n",
       "      <td>lady a</td>\n",
       "      <td>1</td>\n",
       "    </tr>\n",
       "  </tbody>\n",
       "</table>\n",
       "<p>100 rows × 3 columns</p>\n",
       "</div>"
      ],
      "text/plain": [
       "                                song                                 artist  \\\n",
       "0                               mood           24kgoldn featuring iann dior   \n",
       "1                                wap  cardi b featuring megan thee stallion   \n",
       "2                laugh now cry later               drake featuring lil durk   \n",
       "3                    blinding lights                             the weeknd   \n",
       "4   savage love (laxed - siren beat)               jawsh 685 x jason derulo   \n",
       "..                               ...                                    ...   \n",
       "95                          caramelo          ozuna x karol g x myke towers   \n",
       "96                            pardon                t.i. featuring lil baby   \n",
       "97                      one too many             keith urban duet with p!nk   \n",
       "98                 dollaz on my head             gunna featuring young thug   \n",
       "99                   champagne night                                 lady a   \n",
       "\n",
       "   weeks on chart  \n",
       "0              11  \n",
       "1              11  \n",
       "2              10  \n",
       "3              47  \n",
       "4              19  \n",
       "..            ...  \n",
       "95             10  \n",
       "96              1  \n",
       "97              4  \n",
       "98             19  \n",
       "99              1  \n",
       "\n",
       "[100 rows x 3 columns]"
      ]
     },
     "execution_count": 176,
     "metadata": {},
     "output_type": "execute_result"
    }
   ],
   "source": [
    "hits.head(100)"
   ]
  },
  {
   "cell_type": "code",
   "execution_count": null,
   "metadata": {},
   "outputs": [],
   "source": []
  },
  {
   "cell_type": "markdown",
   "metadata": {},
   "source": [
    "### Design the loop to interact with"
   ]
  },
  {
   "cell_type": "code",
   "execution_count": 90,
   "metadata": {},
   "outputs": [],
   "source": [
    "import random"
   ]
  },
  {
   "cell_type": "code",
   "execution_count": 117,
   "metadata": {},
   "outputs": [
    {
     "name": "stdout",
     "output_type": "stream",
     "text": [
      "Mood\n",
      "Good\n"
     ]
    }
   ],
   "source": [
    "#This option is fine, but I need to write exactly the title fo the song...\n",
    "request = input().lower()\n",
    "\n",
    "if request in list(hits[\"song\"]):\n",
    "    print(\"Good\")\n",
    "else:\n",
    "    print(\"No\")"
   ]
  },
  {
   "cell_type": "code",
   "execution_count": 342,
   "metadata": {},
   "outputs": [
    {
     "name": "stdout",
     "output_type": "stream",
     "text": [
      "Hello! Please, write a song or artist you like. \n",
      "\n",
      "mood\n",
      "\n",
      "Maybe you would like this song: Circles\n"
     ]
    }
   ],
   "source": [
    "#with .contains I can just write a part\n",
    "print(\"Hello! Please, write a song or artist you like. \\n\")\n",
    "request = input().lower()\n",
    "\n",
    "if hits[\"song\"].str.contains(request).any():\n",
    "    print(\"\\nMaybe you would like this song:\", random.choice(hits[\"song\"]).capitalize())\n",
    "    \n",
    "elif hits[\"artist\"].str.contains(request).any():\n",
    "    print(\"\\nMaybe you would like this song:\",random.choice(hits[\"song\"]).capitalize())\n",
    "    \n",
    "else:\n",
    "    print(\"\\nUnder construction\")"
   ]
  },
  {
   "cell_type": "code",
   "execution_count": null,
   "metadata": {},
   "outputs": [],
   "source": []
  },
  {
   "cell_type": "markdown",
   "metadata": {},
   "source": [
    "### Get more data to add more options (all years since 1970)"
   ]
  },
  {
   "cell_type": "markdown",
   "metadata": {},
   "source": [
    "##### Create the list of URL"
   ]
  },
  {
   "cell_type": "code",
   "execution_count": 21,
   "metadata": {},
   "outputs": [],
   "source": [
    "years=range(1970,2020,1)"
   ]
  },
  {
   "cell_type": "code",
   "execution_count": 22,
   "metadata": {},
   "outputs": [],
   "source": [
    "url_list= []"
   ]
  },
  {
   "cell_type": "code",
   "execution_count": 23,
   "metadata": {},
   "outputs": [],
   "source": [
    "for year in years:\n",
    "    url_list.append(\"https://www.billboard.com/charts/year-end/\"+str(year)+\"/hot-100-songs\")"
   ]
  },
  {
   "cell_type": "code",
   "execution_count": 24,
   "metadata": {
    "scrolled": true
   },
   "outputs": [
    {
     "data": {
      "text/plain": [
       "['https://www.billboard.com/charts/year-end/1970/hot-100-songs',\n",
       " 'https://www.billboard.com/charts/year-end/1971/hot-100-songs',\n",
       " 'https://www.billboard.com/charts/year-end/1972/hot-100-songs',\n",
       " 'https://www.billboard.com/charts/year-end/1973/hot-100-songs',\n",
       " 'https://www.billboard.com/charts/year-end/1974/hot-100-songs',\n",
       " 'https://www.billboard.com/charts/year-end/1975/hot-100-songs',\n",
       " 'https://www.billboard.com/charts/year-end/1976/hot-100-songs',\n",
       " 'https://www.billboard.com/charts/year-end/1977/hot-100-songs',\n",
       " 'https://www.billboard.com/charts/year-end/1978/hot-100-songs',\n",
       " 'https://www.billboard.com/charts/year-end/1979/hot-100-songs',\n",
       " 'https://www.billboard.com/charts/year-end/1980/hot-100-songs',\n",
       " 'https://www.billboard.com/charts/year-end/1981/hot-100-songs',\n",
       " 'https://www.billboard.com/charts/year-end/1982/hot-100-songs',\n",
       " 'https://www.billboard.com/charts/year-end/1983/hot-100-songs',\n",
       " 'https://www.billboard.com/charts/year-end/1984/hot-100-songs',\n",
       " 'https://www.billboard.com/charts/year-end/1985/hot-100-songs',\n",
       " 'https://www.billboard.com/charts/year-end/1986/hot-100-songs',\n",
       " 'https://www.billboard.com/charts/year-end/1987/hot-100-songs',\n",
       " 'https://www.billboard.com/charts/year-end/1988/hot-100-songs',\n",
       " 'https://www.billboard.com/charts/year-end/1989/hot-100-songs',\n",
       " 'https://www.billboard.com/charts/year-end/1990/hot-100-songs',\n",
       " 'https://www.billboard.com/charts/year-end/1991/hot-100-songs',\n",
       " 'https://www.billboard.com/charts/year-end/1992/hot-100-songs',\n",
       " 'https://www.billboard.com/charts/year-end/1993/hot-100-songs',\n",
       " 'https://www.billboard.com/charts/year-end/1994/hot-100-songs',\n",
       " 'https://www.billboard.com/charts/year-end/1995/hot-100-songs',\n",
       " 'https://www.billboard.com/charts/year-end/1996/hot-100-songs',\n",
       " 'https://www.billboard.com/charts/year-end/1997/hot-100-songs',\n",
       " 'https://www.billboard.com/charts/year-end/1998/hot-100-songs',\n",
       " 'https://www.billboard.com/charts/year-end/1999/hot-100-songs',\n",
       " 'https://www.billboard.com/charts/year-end/2000/hot-100-songs',\n",
       " 'https://www.billboard.com/charts/year-end/2001/hot-100-songs',\n",
       " 'https://www.billboard.com/charts/year-end/2002/hot-100-songs',\n",
       " 'https://www.billboard.com/charts/year-end/2003/hot-100-songs',\n",
       " 'https://www.billboard.com/charts/year-end/2004/hot-100-songs',\n",
       " 'https://www.billboard.com/charts/year-end/2005/hot-100-songs',\n",
       " 'https://www.billboard.com/charts/year-end/2006/hot-100-songs',\n",
       " 'https://www.billboard.com/charts/year-end/2007/hot-100-songs',\n",
       " 'https://www.billboard.com/charts/year-end/2008/hot-100-songs',\n",
       " 'https://www.billboard.com/charts/year-end/2009/hot-100-songs',\n",
       " 'https://www.billboard.com/charts/year-end/2010/hot-100-songs',\n",
       " 'https://www.billboard.com/charts/year-end/2011/hot-100-songs',\n",
       " 'https://www.billboard.com/charts/year-end/2012/hot-100-songs',\n",
       " 'https://www.billboard.com/charts/year-end/2013/hot-100-songs',\n",
       " 'https://www.billboard.com/charts/year-end/2014/hot-100-songs',\n",
       " 'https://www.billboard.com/charts/year-end/2015/hot-100-songs',\n",
       " 'https://www.billboard.com/charts/year-end/2016/hot-100-songs',\n",
       " 'https://www.billboard.com/charts/year-end/2017/hot-100-songs',\n",
       " 'https://www.billboard.com/charts/year-end/2018/hot-100-songs',\n",
       " 'https://www.billboard.com/charts/year-end/2019/hot-100-songs']"
      ]
     },
     "execution_count": 24,
     "metadata": {},
     "output_type": "execute_result"
    }
   ],
   "source": [
    "url_list"
   ]
  },
  {
   "cell_type": "markdown",
   "metadata": {},
   "source": [
    "#### Get the responses and create the parsed soups list"
   ]
  },
  {
   "cell_type": "code",
   "execution_count": 25,
   "metadata": {},
   "outputs": [],
   "source": [
    "from time import sleep"
   ]
  },
  {
   "cell_type": "code",
   "execution_count": 26,
   "metadata": {},
   "outputs": [],
   "source": [
    "soups_list = []"
   ]
  },
  {
   "cell_type": "code",
   "execution_count": 27,
   "metadata": {},
   "outputs": [
    {
     "name": "stdout",
     "output_type": "stream",
     "text": [
      "Response: 200\n",
      "Response: 200\n",
      "Response: 200\n",
      "Response: 200\n",
      "Response: 200\n",
      "Response: 200\n",
      "Response: 200\n",
      "Response: 200\n",
      "Response: 200\n",
      "Response: 200\n",
      "Response: 200\n",
      "Response: 200\n",
      "Response: 200\n",
      "Response: 200\n",
      "Response: 200\n",
      "Response: 200\n",
      "Response: 200\n",
      "Response: 200\n",
      "Response: 200\n",
      "Response: 200\n",
      "Response: 200\n",
      "Response: 200\n",
      "Response: 200\n",
      "Response: 200\n",
      "Response: 200\n",
      "Response: 200\n",
      "Response: 200\n",
      "Response: 200\n",
      "Response: 200\n",
      "Response: 200\n",
      "Response: 200\n",
      "Response: 200\n",
      "Response: 200\n",
      "Response: 200\n",
      "Response: 200\n",
      "Response: 200\n",
      "Response: 200\n",
      "Response: 200\n",
      "Response: 200\n",
      "Response: 200\n",
      "Response: 200\n",
      "Response: 200\n",
      "Response: 200\n",
      "Response: 200\n",
      "Response: 200\n",
      "Response: 200\n",
      "Response: 200\n",
      "Response: 200\n",
      "Response: 200\n",
      "Response: 200\n"
     ]
    }
   ],
   "source": [
    "for url in url_list:\n",
    "    #make request:\n",
    "    response = requests.get(url)\n",
    "    print(\"Response: \"+ str(response.status_code))\n",
    "    \n",
    "    #create the soup and append it to the list:\n",
    "    soups_list.append(BeautifulSoup(response.content,\"html.parser\"))\n",
    "    \n",
    "    #respectful nap:\n",
    "    sleep(3)"
   ]
  },
  {
   "cell_type": "code",
   "execution_count": 28,
   "metadata": {
    "scrolled": true
   },
   "outputs": [
    {
     "data": {
      "text/plain": [
       "50"
      ]
     },
     "execution_count": 28,
     "metadata": {},
     "output_type": "execute_result"
    }
   ],
   "source": [
    "len(soups_list)"
   ]
  },
  {
   "cell_type": "markdown",
   "metadata": {},
   "source": [
    "##### Get the list of songs and artists of the first soup (first year)"
   ]
  },
  {
   "cell_type": "code",
   "execution_count": 29,
   "metadata": {
    "scrolled": true
   },
   "outputs": [
    {
     "data": {
      "text/plain": [
       "'\\nBridge Over Troubled Water\\n'"
      ]
     },
     "execution_count": 29,
     "metadata": {},
     "output_type": "execute_result"
    }
   ],
   "source": [
    "soups_list[0].select(\"div.ye-chart-item__title\")[0].get_text()"
   ]
  },
  {
   "cell_type": "code",
   "execution_count": 293,
   "metadata": {},
   "outputs": [],
   "source": [
    "titles = []\n",
    "titles_n = []\n",
    "\n",
    "for song in soups_list[0].select(\"div.ye-chart-item__title\"):\n",
    "    titles.append(song.get_text())\n",
    "    \n",
    "for string in titles:\n",
    "    titles_n.append(string.replace(\"\\n\",\"\"))"
   ]
  },
  {
   "cell_type": "code",
   "execution_count": 294,
   "metadata": {},
   "outputs": [
    {
     "data": {
      "text/plain": [
       "69"
      ]
     },
     "execution_count": 294,
     "metadata": {},
     "output_type": "execute_result"
    }
   ],
   "source": [
    "len(titles)"
   ]
  },
  {
   "cell_type": "code",
   "execution_count": 263,
   "metadata": {},
   "outputs": [
    {
     "data": {
      "text/plain": [
       "'\\n\\nSimon & Garfunkel\\n\\n'"
      ]
     },
     "execution_count": 263,
     "metadata": {},
     "output_type": "execute_result"
    }
   ],
   "source": [
    "soups_list[0].select(\"div.ye-chart-item__artist\")[0].get_text()"
   ]
  },
  {
   "cell_type": "code",
   "execution_count": 264,
   "metadata": {},
   "outputs": [],
   "source": [
    "artists = []\n",
    "artists_n = []\n",
    "\n",
    "for artist in soups_list[0].select(\"div.ye-chart-item__artist\"):\n",
    "    artists.append(artist.get_text())\n",
    "    \n",
    "for string in artists:\n",
    "    artists_n.append(string.replace(\"\\n\",\"\").strip())"
   ]
  },
  {
   "cell_type": "code",
   "execution_count": 267,
   "metadata": {
    "scrolled": true
   },
   "outputs": [
    {
     "data": {
      "text/plain": [
       "69"
      ]
     },
     "execution_count": 267,
     "metadata": {},
     "output_type": "execute_result"
    }
   ],
   "source": [
    "len(artists_n)"
   ]
  },
  {
   "cell_type": "markdown",
   "metadata": {},
   "source": [
    "#### Fill the list that are not 100, until 100"
   ]
  },
  {
   "cell_type": "code",
   "execution_count": 304,
   "metadata": {},
   "outputs": [],
   "source": [
    "while len(titles_n) < 100:\n",
    "    titles_n.append(\"Song\")"
   ]
  },
  {
   "cell_type": "code",
   "execution_count": null,
   "metadata": {},
   "outputs": [],
   "source": []
  },
  {
   "cell_type": "markdown",
   "metadata": {},
   "source": [
    "##### Get the list of songs and artist for each soup (each year)"
   ]
  },
  {
   "cell_type": "code",
   "execution_count": 17,
   "metadata": {},
   "outputs": [
    {
     "ename": "NameError",
     "evalue": "name 'soups_list' is not defined",
     "output_type": "error",
     "traceback": [
      "\u001b[0;31m---------------------------------------------------------------------------\u001b[0m",
      "\u001b[0;31mNameError\u001b[0m                                 Traceback (most recent call last)",
      "\u001b[0;32m<ipython-input-17-5cfd46cfd06d>\u001b[0m in \u001b[0;36m<module>\u001b[0;34m\u001b[0m\n\u001b[1;32m      1\u001b[0m \u001b[0mhits_total\u001b[0m \u001b[0;34m=\u001b[0m \u001b[0;34m{\u001b[0m\u001b[0;34m}\u001b[0m\u001b[0;34m\u001b[0m\u001b[0;34m\u001b[0m\u001b[0m\n\u001b[1;32m      2\u001b[0m \u001b[0;34m\u001b[0m\u001b[0m\n\u001b[0;32m----> 3\u001b[0;31m \u001b[0;32mfor\u001b[0m \u001b[0myear\u001b[0m \u001b[0;32min\u001b[0m \u001b[0mrange\u001b[0m\u001b[0;34m(\u001b[0m\u001b[0mlen\u001b[0m\u001b[0;34m(\u001b[0m\u001b[0msoups_list\u001b[0m\u001b[0;34m)\u001b[0m\u001b[0;34m)\u001b[0m\u001b[0;34m:\u001b[0m\u001b[0;34m\u001b[0m\u001b[0;34m\u001b[0m\u001b[0m\n\u001b[0m\u001b[1;32m      4\u001b[0m \u001b[0;34m\u001b[0m\u001b[0m\n\u001b[1;32m      5\u001b[0m     \u001b[0mtitles\u001b[0m \u001b[0;34m=\u001b[0m \u001b[0;34m[\u001b[0m\u001b[0;34m]\u001b[0m\u001b[0;34m\u001b[0m\u001b[0;34m\u001b[0m\u001b[0m\n",
      "\u001b[0;31mNameError\u001b[0m: name 'soups_list' is not defined"
     ]
    }
   ],
   "source": [
    "hits_total = {}\n",
    "\n",
    "for year in range(len(soups_list)):\n",
    "    \n",
    "    titles = []\n",
    "    titles_n = []\n",
    "\n",
    "    for song in soups_list[year].select(\"div.ye-chart-item__title\"):\n",
    "        titles.append(song.get_text())\n",
    "\n",
    "    for string in titles:\n",
    "        titles_n.append(string.replace(\"\\n\",\"\").strip())\n",
    "        \n",
    "    while len(titles_n) < 100:\n",
    "        titles_n.append(\"Song\")\n",
    "        \n",
    "    hits_total[\"Song \" + str(year+1970)] = titles_n\n",
    "    \n",
    "    artists = []\n",
    "    artists_n = []\n",
    "\n",
    "    for song in soups_list[year].select(\"div.ye-chart-item__artist\"):\n",
    "        artists.append(song.get_text())\n",
    "\n",
    "    for string in artists:\n",
    "        artists_n.append(string.replace(\"\\n\",\"\").strip())\n",
    "        \n",
    "    while len(artists_n) < 100:\n",
    "        artists_n.append(\"Song\")\n",
    "        \n",
    "    hits_total[\"Artist \" + str(year+1970)] = artists_n"
   ]
  },
  {
   "cell_type": "code",
   "execution_count": 324,
   "metadata": {},
   "outputs": [],
   "source": [
    "hits_total_df = pd.DataFrame(hits_total)"
   ]
  },
  {
   "cell_type": "code",
   "execution_count": 325,
   "metadata": {},
   "outputs": [
    {
     "data": {
      "text/html": [
       "<div>\n",
       "<style scoped>\n",
       "    .dataframe tbody tr th:only-of-type {\n",
       "        vertical-align: middle;\n",
       "    }\n",
       "\n",
       "    .dataframe tbody tr th {\n",
       "        vertical-align: top;\n",
       "    }\n",
       "\n",
       "    .dataframe thead th {\n",
       "        text-align: right;\n",
       "    }\n",
       "</style>\n",
       "<table border=\"1\" class=\"dataframe\">\n",
       "  <thead>\n",
       "    <tr style=\"text-align: right;\">\n",
       "      <th></th>\n",
       "      <th>Song 1970</th>\n",
       "      <th>Artist 1970</th>\n",
       "      <th>Song 1971</th>\n",
       "      <th>Artist 1971</th>\n",
       "      <th>Song 1972</th>\n",
       "      <th>Artist 1972</th>\n",
       "      <th>Song 1973</th>\n",
       "      <th>Artist 1973</th>\n",
       "      <th>Song 1974</th>\n",
       "      <th>Artist 1974</th>\n",
       "      <th>...</th>\n",
       "      <th>Song 2015</th>\n",
       "      <th>Artist 2015</th>\n",
       "      <th>Song 2016</th>\n",
       "      <th>Artist 2016</th>\n",
       "      <th>Song 2017</th>\n",
       "      <th>Artist 2017</th>\n",
       "      <th>Song 2018</th>\n",
       "      <th>Artist 2018</th>\n",
       "      <th>Song 2019</th>\n",
       "      <th>Artist 2019</th>\n",
       "    </tr>\n",
       "  </thead>\n",
       "  <tbody>\n",
       "    <tr>\n",
       "      <td>0</td>\n",
       "      <td>Bridge Over Troubled Water</td>\n",
       "      <td>Simon &amp; Garfunkel</td>\n",
       "      <td>Joy To The World</td>\n",
       "      <td>Three Dog Night</td>\n",
       "      <td>Alone Again (Naturally)</td>\n",
       "      <td>Gilbert O'Sullivan</td>\n",
       "      <td>Bad, Bad Leroy Brown</td>\n",
       "      <td>Jim Croce</td>\n",
       "      <td>The Way We Were</td>\n",
       "      <td>Barbra Streisand</td>\n",
       "      <td>...</td>\n",
       "      <td>Uptown Funk!</td>\n",
       "      <td>Mark Ronson Featuring Bruno Mars</td>\n",
       "      <td>Love Yourself</td>\n",
       "      <td>Justin Bieber</td>\n",
       "      <td>Shape Of You</td>\n",
       "      <td>Ed Sheeran</td>\n",
       "      <td>God's Plan</td>\n",
       "      <td>Drake</td>\n",
       "      <td>Old Town Road</td>\n",
       "      <td>Lil Nas X Featuring Billy Ray Cyrus</td>\n",
       "    </tr>\n",
       "    <tr>\n",
       "      <td>1</td>\n",
       "      <td>(They Long To Be) Close To You</td>\n",
       "      <td>Carpenters</td>\n",
       "      <td>Maggie May/Reason To Believe</td>\n",
       "      <td>Rod Stewart</td>\n",
       "      <td>American Pie (Parts I &amp; II)</td>\n",
       "      <td>Don McLean</td>\n",
       "      <td>Killing Me Softly With His Song</td>\n",
       "      <td>Roberta Flack</td>\n",
       "      <td>Seasons In The Sun</td>\n",
       "      <td>Terry Jacks</td>\n",
       "      <td>...</td>\n",
       "      <td>Thinking Out Loud</td>\n",
       "      <td>Ed Sheeran</td>\n",
       "      <td>Sorry</td>\n",
       "      <td>Justin Bieber</td>\n",
       "      <td>Despacito</td>\n",
       "      <td>Luis Fonsi &amp; Daddy Yankee Featuring Justin Bieber</td>\n",
       "      <td>Perfect</td>\n",
       "      <td>Ed Sheeran</td>\n",
       "      <td>Sunflower (Spider-Man: Into The Spider-Verse)</td>\n",
       "      <td>Post Malone &amp; Swae Lee</td>\n",
       "    </tr>\n",
       "    <tr>\n",
       "      <td>2</td>\n",
       "      <td>American Woman/No Sugar Tonight</td>\n",
       "      <td>The Guess Who</td>\n",
       "      <td>It's Too Late/I Feel The Earth Move</td>\n",
       "      <td>Carole King</td>\n",
       "      <td>Without You</td>\n",
       "      <td>Nilsson</td>\n",
       "      <td>Let's Get It On</td>\n",
       "      <td>Marvin Gaye</td>\n",
       "      <td>Love's Theme</td>\n",
       "      <td>Love Unlimited Orchestra</td>\n",
       "      <td>...</td>\n",
       "      <td>See You Again</td>\n",
       "      <td>Wiz Khalifa Featuring Charlie Puth</td>\n",
       "      <td>One Dance</td>\n",
       "      <td>Drake Featuring WizKid &amp; Kyla</td>\n",
       "      <td>That's What I Like</td>\n",
       "      <td>Bruno Mars</td>\n",
       "      <td>Meant To Be</td>\n",
       "      <td>Bebe Rexha &amp; Florida Georgia Line</td>\n",
       "      <td>Without Me</td>\n",
       "      <td>Halsey</td>\n",
       "    </tr>\n",
       "    <tr>\n",
       "      <td>3</td>\n",
       "      <td>Raindrops Keep Fallin' On My Head</td>\n",
       "      <td>B.J. Thomas</td>\n",
       "      <td>How Can You Mend A Broken Heart</td>\n",
       "      <td>Bee Gees</td>\n",
       "      <td>I Gotcha</td>\n",
       "      <td>Joe Tex</td>\n",
       "      <td>Crocodile Rock</td>\n",
       "      <td>Elton John</td>\n",
       "      <td>Come And Get Your Love</td>\n",
       "      <td>Redbone</td>\n",
       "      <td>...</td>\n",
       "      <td>Trap Queen</td>\n",
       "      <td>Fetty Wap</td>\n",
       "      <td>Work</td>\n",
       "      <td>Rihanna Featuring Drake</td>\n",
       "      <td>Humble.</td>\n",
       "      <td>Kendrick Lamar</td>\n",
       "      <td>Havana</td>\n",
       "      <td>Camila Cabello Featuring Young Thug</td>\n",
       "      <td>Bad Guy</td>\n",
       "      <td>Billie Eilish</td>\n",
       "    </tr>\n",
       "    <tr>\n",
       "      <td>4</td>\n",
       "      <td>War</td>\n",
       "      <td>Edwin Starr</td>\n",
       "      <td>Go Away Little Girl</td>\n",
       "      <td>Donny Osmond</td>\n",
       "      <td>Lean On Me</td>\n",
       "      <td>Bill Withers</td>\n",
       "      <td>Will It Go Round In Circles</td>\n",
       "      <td>Billy Preston</td>\n",
       "      <td>Dancing Machine</td>\n",
       "      <td>Jackson 5</td>\n",
       "      <td>...</td>\n",
       "      <td>Sugar</td>\n",
       "      <td>Maroon 5</td>\n",
       "      <td>Stressed Out</td>\n",
       "      <td>twenty one pilots</td>\n",
       "      <td>Something Just Like This</td>\n",
       "      <td>The Chainsmokers &amp; Coldplay</td>\n",
       "      <td>Rockstar</td>\n",
       "      <td>Post Malone Featuring 21 Savage</td>\n",
       "      <td>Wow.</td>\n",
       "      <td>Post Malone</td>\n",
       "    </tr>\n",
       "  </tbody>\n",
       "</table>\n",
       "<p>5 rows × 100 columns</p>\n",
       "</div>"
      ],
      "text/plain": [
       "                           Song 1970        Artist 1970  \\\n",
       "0         Bridge Over Troubled Water  Simon & Garfunkel   \n",
       "1     (They Long To Be) Close To You         Carpenters   \n",
       "2    American Woman/No Sugar Tonight      The Guess Who   \n",
       "3  Raindrops Keep Fallin' On My Head        B.J. Thomas   \n",
       "4                                War        Edwin Starr   \n",
       "\n",
       "                             Song 1971      Artist 1971  \\\n",
       "0                     Joy To The World  Three Dog Night   \n",
       "1         Maggie May/Reason To Believe      Rod Stewart   \n",
       "2  It's Too Late/I Feel The Earth Move      Carole King   \n",
       "3      How Can You Mend A Broken Heart         Bee Gees   \n",
       "4                  Go Away Little Girl     Donny Osmond   \n",
       "\n",
       "                     Song 1972         Artist 1972  \\\n",
       "0      Alone Again (Naturally)  Gilbert O'Sullivan   \n",
       "1  American Pie (Parts I & II)          Don McLean   \n",
       "2                  Without You             Nilsson   \n",
       "3                     I Gotcha             Joe Tex   \n",
       "4                   Lean On Me        Bill Withers   \n",
       "\n",
       "                         Song 1973    Artist 1973               Song 1974  \\\n",
       "0             Bad, Bad Leroy Brown      Jim Croce         The Way We Were   \n",
       "1  Killing Me Softly With His Song  Roberta Flack      Seasons In The Sun   \n",
       "2                  Let's Get It On    Marvin Gaye            Love's Theme   \n",
       "3                   Crocodile Rock     Elton John  Come And Get Your Love   \n",
       "4      Will It Go Round In Circles  Billy Preston         Dancing Machine   \n",
       "\n",
       "                Artist 1974  ...          Song 2015  \\\n",
       "0          Barbra Streisand  ...       Uptown Funk!   \n",
       "1               Terry Jacks  ...  Thinking Out Loud   \n",
       "2  Love Unlimited Orchestra  ...      See You Again   \n",
       "3                   Redbone  ...         Trap Queen   \n",
       "4                 Jackson 5  ...              Sugar   \n",
       "\n",
       "                          Artist 2015      Song 2016  \\\n",
       "0    Mark Ronson Featuring Bruno Mars  Love Yourself   \n",
       "1                          Ed Sheeran          Sorry   \n",
       "2  Wiz Khalifa Featuring Charlie Puth      One Dance   \n",
       "3                           Fetty Wap           Work   \n",
       "4                            Maroon 5   Stressed Out   \n",
       "\n",
       "                     Artist 2016                 Song 2017  \\\n",
       "0                  Justin Bieber              Shape Of You   \n",
       "1                  Justin Bieber                 Despacito   \n",
       "2  Drake Featuring WizKid & Kyla        That's What I Like   \n",
       "3        Rihanna Featuring Drake                   Humble.   \n",
       "4              twenty one pilots  Something Just Like This   \n",
       "\n",
       "                                         Artist 2017    Song 2018  \\\n",
       "0                                         Ed Sheeran   God's Plan   \n",
       "1  Luis Fonsi & Daddy Yankee Featuring Justin Bieber      Perfect   \n",
       "2                                         Bruno Mars  Meant To Be   \n",
       "3                                     Kendrick Lamar       Havana   \n",
       "4                        The Chainsmokers & Coldplay     Rockstar   \n",
       "\n",
       "                           Artist 2018  \\\n",
       "0                                Drake   \n",
       "1                           Ed Sheeran   \n",
       "2    Bebe Rexha & Florida Georgia Line   \n",
       "3  Camila Cabello Featuring Young Thug   \n",
       "4      Post Malone Featuring 21 Savage   \n",
       "\n",
       "                                       Song 2019  \\\n",
       "0                                  Old Town Road   \n",
       "1  Sunflower (Spider-Man: Into The Spider-Verse)   \n",
       "2                                     Without Me   \n",
       "3                                        Bad Guy   \n",
       "4                                           Wow.   \n",
       "\n",
       "                           Artist 2019  \n",
       "0  Lil Nas X Featuring Billy Ray Cyrus  \n",
       "1               Post Malone & Swae Lee  \n",
       "2                               Halsey  \n",
       "3                        Billie Eilish  \n",
       "4                          Post Malone  \n",
       "\n",
       "[5 rows x 100 columns]"
      ]
     },
     "execution_count": 325,
     "metadata": {},
     "output_type": "execute_result"
    }
   ],
   "source": [
    "hits_total_df.head()"
   ]
  },
  {
   "cell_type": "code",
   "execution_count": 327,
   "metadata": {},
   "outputs": [],
   "source": [
    "hits_total_df.to_csv(\"./hits_total_df.csv\")"
   ]
  },
  {
   "cell_type": "code",
   "execution_count": 341,
   "metadata": {},
   "outputs": [
    {
     "data": {
      "text/html": [
       "<div>\n",
       "<style scoped>\n",
       "    .dataframe tbody tr th:only-of-type {\n",
       "        vertical-align: middle;\n",
       "    }\n",
       "\n",
       "    .dataframe tbody tr th {\n",
       "        vertical-align: top;\n",
       "    }\n",
       "\n",
       "    .dataframe thead th {\n",
       "        text-align: right;\n",
       "    }\n",
       "</style>\n",
       "<table border=\"1\" class=\"dataframe\">\n",
       "  <thead>\n",
       "    <tr style=\"text-align: right;\">\n",
       "      <th></th>\n",
       "      <th>Song 1999</th>\n",
       "    </tr>\n",
       "  </thead>\n",
       "  <tbody>\n",
       "    <tr>\n",
       "      <td>4</td>\n",
       "      <td>Hips Don't Lie</td>\n",
       "    </tr>\n",
       "    <tr>\n",
       "      <td>6</td>\n",
       "      <td>Crazy</td>\n",
       "    </tr>\n",
       "    <tr>\n",
       "      <td>7</td>\n",
       "      <td>Ridin'</td>\n",
       "    </tr>\n",
       "  </tbody>\n",
       "</table>\n",
       "</div>"
      ],
      "text/plain": [
       "        Song 1999\n",
       "4  Hips Don't Lie\n",
       "6           Crazy\n",
       "7          Ridin'"
      ]
     },
     "execution_count": 341,
     "metadata": {},
     "output_type": "execute_result"
    }
   ],
   "source": [
    "hits_total_df.loc[[4,6,7],[\"Song 1999\"]]"
   ]
  },
  {
   "cell_type": "markdown",
   "metadata": {},
   "source": []
  },
  {
   "cell_type": "code",
   "execution_count": null,
   "metadata": {},
   "outputs": [],
   "source": []
  },
  {
   "cell_type": "code",
   "execution_count": null,
   "metadata": {},
   "outputs": [],
   "source": []
  },
  {
   "cell_type": "code",
   "execution_count": null,
   "metadata": {},
   "outputs": [],
   "source": []
  },
  {
   "cell_type": "code",
   "execution_count": null,
   "metadata": {},
   "outputs": [],
   "source": []
  },
  {
   "cell_type": "code",
   "execution_count": 30,
   "metadata": {},
   "outputs": [],
   "source": [
    "hits_total = {}\n",
    "\n",
    "for year in range(len(soups_list)):\n",
    "    \n",
    "    titles = []\n",
    "    titles_n = []\n",
    "\n",
    "    for song in soups_list[year].select(\"div.ye-chart-item__title\"):\n",
    "        titles.append(song.get_text())\n",
    "\n",
    "    for string in titles:\n",
    "        titles_n.append(string.replace(\"\\n\",\"\").strip())\n",
    "        \n",
    "    while len(titles_n) < 100:\n",
    "        titles_n.append(\"Song\")\n",
    "        \n",
    "    hits_total[\"Song \" + str(year+1970)] = titles_n"
   ]
  },
  {
   "cell_type": "code",
   "execution_count": 34,
   "metadata": {},
   "outputs": [],
   "source": [
    "hits_years_df=pd.DataFrame(hits_total)"
   ]
  },
  {
   "cell_type": "code",
   "execution_count": 37,
   "metadata": {},
   "outputs": [],
   "source": [
    "hits_years_df.to_csv(\"./hits_old.csv\")"
   ]
  },
  {
   "cell_type": "code",
   "execution_count": 44,
   "metadata": {},
   "outputs": [
    {
     "data": {
      "text/html": [
       "<div>\n",
       "<style scoped>\n",
       "    .dataframe tbody tr th:only-of-type {\n",
       "        vertical-align: middle;\n",
       "    }\n",
       "\n",
       "    .dataframe tbody tr th {\n",
       "        vertical-align: top;\n",
       "    }\n",
       "\n",
       "    .dataframe thead th {\n",
       "        text-align: right;\n",
       "    }\n",
       "</style>\n",
       "<table border=\"1\" class=\"dataframe\">\n",
       "  <thead>\n",
       "    <tr style=\"text-align: right;\">\n",
       "      <th></th>\n",
       "      <th>Song 1970</th>\n",
       "      <th>Song 1971</th>\n",
       "      <th>Song 1972</th>\n",
       "      <th>Song 1973</th>\n",
       "      <th>Song 1974</th>\n",
       "      <th>Song 1975</th>\n",
       "      <th>Song 1976</th>\n",
       "      <th>Song 1977</th>\n",
       "      <th>Song 1978</th>\n",
       "      <th>Song 1979</th>\n",
       "      <th>...</th>\n",
       "      <th>Song 2010</th>\n",
       "      <th>Song 2011</th>\n",
       "      <th>Song 2012</th>\n",
       "      <th>Song 2013</th>\n",
       "      <th>Song 2014</th>\n",
       "      <th>Song 2015</th>\n",
       "      <th>Song 2016</th>\n",
       "      <th>Song 2017</th>\n",
       "      <th>Song 2018</th>\n",
       "      <th>Song 2019</th>\n",
       "    </tr>\n",
       "  </thead>\n",
       "  <tbody>\n",
       "    <tr>\n",
       "      <td>0</td>\n",
       "      <td>Bridge Over Troubled Water</td>\n",
       "      <td>Joy To The World</td>\n",
       "      <td>Alone Again (Naturally)</td>\n",
       "      <td>Bad, Bad Leroy Brown</td>\n",
       "      <td>The Way We Were</td>\n",
       "      <td>Love Will Keep Us Together</td>\n",
       "      <td>Silly Love Songs</td>\n",
       "      <td>Tonight's The Night (Gonna Be Alright)</td>\n",
       "      <td>Shadow Dancing</td>\n",
       "      <td>My Sharona</td>\n",
       "      <td>...</td>\n",
       "      <td>TiK ToK</td>\n",
       "      <td>Rolling In The Deep</td>\n",
       "      <td>Somebody That I Used To Know</td>\n",
       "      <td>Thrift Shop</td>\n",
       "      <td>Happy</td>\n",
       "      <td>Uptown Funk!</td>\n",
       "      <td>Love Yourself</td>\n",
       "      <td>Shape Of You</td>\n",
       "      <td>God's Plan</td>\n",
       "      <td>Old Town Road</td>\n",
       "    </tr>\n",
       "    <tr>\n",
       "      <td>1</td>\n",
       "      <td>(They Long To Be) Close To You</td>\n",
       "      <td>Maggie May/Reason To Believe</td>\n",
       "      <td>American Pie (Parts I &amp; II)</td>\n",
       "      <td>Killing Me Softly With His Song</td>\n",
       "      <td>Seasons In The Sun</td>\n",
       "      <td>Rhinestone Cowboy</td>\n",
       "      <td>Don't Go Breaking My Heart</td>\n",
       "      <td>I Just Want To Be Your Everything</td>\n",
       "      <td>Night Fever</td>\n",
       "      <td>BAD GIRLS</td>\n",
       "      <td>...</td>\n",
       "      <td>Need You Now</td>\n",
       "      <td>Party Rock Anthem</td>\n",
       "      <td>Call Me Maybe</td>\n",
       "      <td>Blurred Lines</td>\n",
       "      <td>Dark Horse</td>\n",
       "      <td>Thinking Out Loud</td>\n",
       "      <td>Sorry</td>\n",
       "      <td>Despacito</td>\n",
       "      <td>Perfect</td>\n",
       "      <td>Sunflower (Spider-Man: Into The Spider-Verse)</td>\n",
       "    </tr>\n",
       "    <tr>\n",
       "      <td>2</td>\n",
       "      <td>American Woman/No Sugar Tonight</td>\n",
       "      <td>It's Too Late/I Feel The Earth Move</td>\n",
       "      <td>Without You</td>\n",
       "      <td>Let's Get It On</td>\n",
       "      <td>Love's Theme</td>\n",
       "      <td>Philadelphia Freedom</td>\n",
       "      <td>Disco Lady</td>\n",
       "      <td>Best Of My Love</td>\n",
       "      <td>You Light Up My Life</td>\n",
       "      <td>Le Freak</td>\n",
       "      <td>...</td>\n",
       "      <td>Hey, Soul Sister</td>\n",
       "      <td>Firework</td>\n",
       "      <td>We Are Young</td>\n",
       "      <td>Radioactive</td>\n",
       "      <td>All Of Me</td>\n",
       "      <td>See You Again</td>\n",
       "      <td>One Dance</td>\n",
       "      <td>That's What I Like</td>\n",
       "      <td>Meant To Be</td>\n",
       "      <td>Without Me</td>\n",
       "    </tr>\n",
       "    <tr>\n",
       "      <td>3</td>\n",
       "      <td>Raindrops Keep Fallin' On My Head</td>\n",
       "      <td>How Can You Mend A Broken Heart</td>\n",
       "      <td>I Gotcha</td>\n",
       "      <td>Crocodile Rock</td>\n",
       "      <td>Come And Get Your Love</td>\n",
       "      <td>Before The Next Teardrop Falls</td>\n",
       "      <td>Play That Funky Music</td>\n",
       "      <td>Angel In Your Arms</td>\n",
       "      <td>Stayin' Alive</td>\n",
       "      <td>DO YA THINK I'm SEXY</td>\n",
       "      <td>...</td>\n",
       "      <td>California Gurls</td>\n",
       "      <td>E.T.</td>\n",
       "      <td>Payphone</td>\n",
       "      <td>Harlem Shake</td>\n",
       "      <td>Fancy</td>\n",
       "      <td>Trap Queen</td>\n",
       "      <td>Work</td>\n",
       "      <td>Humble.</td>\n",
       "      <td>Havana</td>\n",
       "      <td>Bad Guy</td>\n",
       "    </tr>\n",
       "    <tr>\n",
       "      <td>4</td>\n",
       "      <td>War</td>\n",
       "      <td>Go Away Little Girl</td>\n",
       "      <td>Lean On Me</td>\n",
       "      <td>Will It Go Round In Circles</td>\n",
       "      <td>Dancing Machine</td>\n",
       "      <td>My Eyes Adored You</td>\n",
       "      <td>50 Ways To Leave Your Lover</td>\n",
       "      <td>I Like Dreamin'</td>\n",
       "      <td>KISS YOU ALL OVER</td>\n",
       "      <td>Reunited</td>\n",
       "      <td>...</td>\n",
       "      <td>OMG</td>\n",
       "      <td>Give Me Everything</td>\n",
       "      <td>Lights</td>\n",
       "      <td>Can't Hold Us</td>\n",
       "      <td>Counting Stars</td>\n",
       "      <td>Sugar</td>\n",
       "      <td>Stressed Out</td>\n",
       "      <td>Something Just Like This</td>\n",
       "      <td>Rockstar</td>\n",
       "      <td>Wow.</td>\n",
       "    </tr>\n",
       "  </tbody>\n",
       "</table>\n",
       "<p>5 rows × 50 columns</p>\n",
       "</div>"
      ],
      "text/plain": [
       "                           Song 1970                            Song 1971  \\\n",
       "0         Bridge Over Troubled Water                     Joy To The World   \n",
       "1     (They Long To Be) Close To You         Maggie May/Reason To Believe   \n",
       "2    American Woman/No Sugar Tonight  It's Too Late/I Feel The Earth Move   \n",
       "3  Raindrops Keep Fallin' On My Head      How Can You Mend A Broken Heart   \n",
       "4                                War                  Go Away Little Girl   \n",
       "\n",
       "                     Song 1972                        Song 1973  \\\n",
       "0      Alone Again (Naturally)             Bad, Bad Leroy Brown   \n",
       "1  American Pie (Parts I & II)  Killing Me Softly With His Song   \n",
       "2                  Without You                  Let's Get It On   \n",
       "3                     I Gotcha                   Crocodile Rock   \n",
       "4                   Lean On Me      Will It Go Round In Circles   \n",
       "\n",
       "                Song 1974                       Song 1975  \\\n",
       "0         The Way We Were      Love Will Keep Us Together   \n",
       "1      Seasons In The Sun               Rhinestone Cowboy   \n",
       "2            Love's Theme            Philadelphia Freedom   \n",
       "3  Come And Get Your Love  Before The Next Teardrop Falls   \n",
       "4         Dancing Machine              My Eyes Adored You   \n",
       "\n",
       "                     Song 1976                               Song 1977  \\\n",
       "0             Silly Love Songs  Tonight's The Night (Gonna Be Alright)   \n",
       "1   Don't Go Breaking My Heart       I Just Want To Be Your Everything   \n",
       "2                   Disco Lady                         Best Of My Love   \n",
       "3        Play That Funky Music                      Angel In Your Arms   \n",
       "4  50 Ways To Leave Your Lover                         I Like Dreamin'   \n",
       "\n",
       "              Song 1978             Song 1979  ...         Song 2010  \\\n",
       "0        Shadow Dancing            My Sharona  ...           TiK ToK   \n",
       "1           Night Fever             BAD GIRLS  ...      Need You Now   \n",
       "2  You Light Up My Life              Le Freak  ...  Hey, Soul Sister   \n",
       "3         Stayin' Alive  DO YA THINK I'm SEXY  ...  California Gurls   \n",
       "4     KISS YOU ALL OVER              Reunited  ...               OMG   \n",
       "\n",
       "             Song 2011                     Song 2012      Song 2013  \\\n",
       "0  Rolling In The Deep  Somebody That I Used To Know    Thrift Shop   \n",
       "1    Party Rock Anthem                 Call Me Maybe  Blurred Lines   \n",
       "2             Firework                  We Are Young    Radioactive   \n",
       "3                 E.T.                      Payphone   Harlem Shake   \n",
       "4   Give Me Everything                        Lights  Can't Hold Us   \n",
       "\n",
       "        Song 2014          Song 2015      Song 2016                 Song 2017  \\\n",
       "0           Happy       Uptown Funk!  Love Yourself              Shape Of You   \n",
       "1      Dark Horse  Thinking Out Loud          Sorry                 Despacito   \n",
       "2       All Of Me      See You Again      One Dance        That's What I Like   \n",
       "3           Fancy         Trap Queen           Work                   Humble.   \n",
       "4  Counting Stars              Sugar   Stressed Out  Something Just Like This   \n",
       "\n",
       "     Song 2018                                      Song 2019  \n",
       "0   God's Plan                                  Old Town Road  \n",
       "1      Perfect  Sunflower (Spider-Man: Into The Spider-Verse)  \n",
       "2  Meant To Be                                     Without Me  \n",
       "3       Havana                                        Bad Guy  \n",
       "4     Rockstar                                           Wow.  \n",
       "\n",
       "[5 rows x 50 columns]"
      ]
     },
     "execution_count": 44,
     "metadata": {},
     "output_type": "execute_result"
    }
   ],
   "source": [
    "hits_years_df.head()"
   ]
  },
  {
   "cell_type": "code",
   "execution_count": null,
   "metadata": {},
   "outputs": [],
   "source": []
  },
  {
   "cell_type": "code",
   "execution_count": 38,
   "metadata": {},
   "outputs": [],
   "source": [
    "hits_total = {}\n",
    "\n",
    "for year in range(len(soups_list)):\n",
    "    \n",
    "    artists = []\n",
    "    artists_n = []\n",
    "\n",
    "    for song in soups_list[year].select(\"div.ye-chart-item__artist\"):\n",
    "        artists.append(song.get_text())\n",
    "\n",
    "    for string in artists:\n",
    "        artists_n.append(string.replace(\"\\n\",\"\").strip())\n",
    "        \n",
    "    while len(artists_n) < 100:\n",
    "        artists_n.append(\"Song\")\n",
    "        \n",
    "    hits_total[\"Artist \" + str(year+1970)] = artists_n"
   ]
  },
  {
   "cell_type": "code",
   "execution_count": 41,
   "metadata": {},
   "outputs": [],
   "source": [
    "hits_years_artists_df=pd.DataFrame(hits_total)"
   ]
  },
  {
   "cell_type": "code",
   "execution_count": 43,
   "metadata": {},
   "outputs": [],
   "source": [
    "hits_years_artists_df.to_csv(\"./hits_old_artists.csv\")"
   ]
  },
  {
   "cell_type": "code",
   "execution_count": 45,
   "metadata": {},
   "outputs": [
    {
     "data": {
      "text/html": [
       "<div>\n",
       "<style scoped>\n",
       "    .dataframe tbody tr th:only-of-type {\n",
       "        vertical-align: middle;\n",
       "    }\n",
       "\n",
       "    .dataframe tbody tr th {\n",
       "        vertical-align: top;\n",
       "    }\n",
       "\n",
       "    .dataframe thead th {\n",
       "        text-align: right;\n",
       "    }\n",
       "</style>\n",
       "<table border=\"1\" class=\"dataframe\">\n",
       "  <thead>\n",
       "    <tr style=\"text-align: right;\">\n",
       "      <th></th>\n",
       "      <th>Artist 1970</th>\n",
       "      <th>Artist 1971</th>\n",
       "      <th>Artist 1972</th>\n",
       "      <th>Artist 1973</th>\n",
       "      <th>Artist 1974</th>\n",
       "      <th>Artist 1975</th>\n",
       "      <th>Artist 1976</th>\n",
       "      <th>Artist 1977</th>\n",
       "      <th>Artist 1978</th>\n",
       "      <th>Artist 1979</th>\n",
       "      <th>...</th>\n",
       "      <th>Artist 2010</th>\n",
       "      <th>Artist 2011</th>\n",
       "      <th>Artist 2012</th>\n",
       "      <th>Artist 2013</th>\n",
       "      <th>Artist 2014</th>\n",
       "      <th>Artist 2015</th>\n",
       "      <th>Artist 2016</th>\n",
       "      <th>Artist 2017</th>\n",
       "      <th>Artist 2018</th>\n",
       "      <th>Artist 2019</th>\n",
       "    </tr>\n",
       "  </thead>\n",
       "  <tbody>\n",
       "    <tr>\n",
       "      <td>0</td>\n",
       "      <td>Simon &amp; Garfunkel</td>\n",
       "      <td>Three Dog Night</td>\n",
       "      <td>Gilbert O'Sullivan</td>\n",
       "      <td>Jim Croce</td>\n",
       "      <td>Barbra Streisand</td>\n",
       "      <td>Captain &amp; Tennille</td>\n",
       "      <td>Wings</td>\n",
       "      <td>Rod Stewart</td>\n",
       "      <td>Andy Gibb</td>\n",
       "      <td>The Knack</td>\n",
       "      <td>...</td>\n",
       "      <td>Ke$ha</td>\n",
       "      <td>Adele</td>\n",
       "      <td>Gotye Featuring Kimbra</td>\n",
       "      <td>Macklemore &amp; Ryan Lewis Featuring Wanz</td>\n",
       "      <td>Pharrell Williams</td>\n",
       "      <td>Mark Ronson Featuring Bruno Mars</td>\n",
       "      <td>Justin Bieber</td>\n",
       "      <td>Ed Sheeran</td>\n",
       "      <td>Drake</td>\n",
       "      <td>Lil Nas X Featuring Billy Ray Cyrus</td>\n",
       "    </tr>\n",
       "    <tr>\n",
       "      <td>1</td>\n",
       "      <td>Carpenters</td>\n",
       "      <td>Rod Stewart</td>\n",
       "      <td>Don McLean</td>\n",
       "      <td>Roberta Flack</td>\n",
       "      <td>Terry Jacks</td>\n",
       "      <td>Glen Campbell</td>\n",
       "      <td>Elton John &amp; Kiki Dee</td>\n",
       "      <td>Andy Gibb</td>\n",
       "      <td>Bee Gees</td>\n",
       "      <td>Donna Summer</td>\n",
       "      <td>...</td>\n",
       "      <td>Lady Antebellum</td>\n",
       "      <td>LMFAO Featuring Lauren Bennett &amp; GoonRock</td>\n",
       "      <td>Carly Rae Jepsen</td>\n",
       "      <td>Robin Thicke Featuring T.I. + Pharrell</td>\n",
       "      <td>Katy Perry Featuring Juicy J</td>\n",
       "      <td>Ed Sheeran</td>\n",
       "      <td>Justin Bieber</td>\n",
       "      <td>Luis Fonsi &amp; Daddy Yankee Featuring Justin Bieber</td>\n",
       "      <td>Ed Sheeran</td>\n",
       "      <td>Post Malone &amp; Swae Lee</td>\n",
       "    </tr>\n",
       "    <tr>\n",
       "      <td>2</td>\n",
       "      <td>The Guess Who</td>\n",
       "      <td>Carole King</td>\n",
       "      <td>Nilsson</td>\n",
       "      <td>Marvin Gaye</td>\n",
       "      <td>Love Unlimited Orchestra</td>\n",
       "      <td>Elton John</td>\n",
       "      <td>Johnnie Taylor</td>\n",
       "      <td>The Emotions</td>\n",
       "      <td>Debby Boone</td>\n",
       "      <td>Chic</td>\n",
       "      <td>...</td>\n",
       "      <td>Train</td>\n",
       "      <td>Katy Perry</td>\n",
       "      <td>fun. Featuring Janelle Monae</td>\n",
       "      <td>Imagine Dragons</td>\n",
       "      <td>John Legend</td>\n",
       "      <td>Wiz Khalifa Featuring Charlie Puth</td>\n",
       "      <td>Drake Featuring WizKid &amp; Kyla</td>\n",
       "      <td>Bruno Mars</td>\n",
       "      <td>Bebe Rexha &amp; Florida Georgia Line</td>\n",
       "      <td>Halsey</td>\n",
       "    </tr>\n",
       "    <tr>\n",
       "      <td>3</td>\n",
       "      <td>B.J. Thomas</td>\n",
       "      <td>Bee Gees</td>\n",
       "      <td>Joe Tex</td>\n",
       "      <td>Elton John</td>\n",
       "      <td>Redbone</td>\n",
       "      <td>Freddy Fender</td>\n",
       "      <td>Wild Cherry</td>\n",
       "      <td>Hot</td>\n",
       "      <td>Bee Gees</td>\n",
       "      <td>Rod Stewart</td>\n",
       "      <td>...</td>\n",
       "      <td>Katy Perry Featuring Snoop Dogg</td>\n",
       "      <td>Katy Perry Featuring Kanye West</td>\n",
       "      <td>Maroon 5 Featuring Wiz Khalifa</td>\n",
       "      <td>Baauer</td>\n",
       "      <td>Iggy Azalea Featuring Charli XCX</td>\n",
       "      <td>Fetty Wap</td>\n",
       "      <td>Rihanna Featuring Drake</td>\n",
       "      <td>Kendrick Lamar</td>\n",
       "      <td>Camila Cabello Featuring Young Thug</td>\n",
       "      <td>Billie Eilish</td>\n",
       "    </tr>\n",
       "    <tr>\n",
       "      <td>4</td>\n",
       "      <td>Edwin Starr</td>\n",
       "      <td>Donny Osmond</td>\n",
       "      <td>Bill Withers</td>\n",
       "      <td>Billy Preston</td>\n",
       "      <td>Jackson 5</td>\n",
       "      <td>Frankie Valli</td>\n",
       "      <td>Paul Simon</td>\n",
       "      <td>Kenny Nolan</td>\n",
       "      <td>Exile</td>\n",
       "      <td>Peaches &amp; Herb</td>\n",
       "      <td>...</td>\n",
       "      <td>Usher Featuring will.i.am</td>\n",
       "      <td>Pitbull Featuring Ne-Yo, Afrojack &amp; Nayer</td>\n",
       "      <td>Ellie Goulding</td>\n",
       "      <td>Macklemore &amp; Ryan Lewis Featuring Ray Dalton</td>\n",
       "      <td>OneRepublic</td>\n",
       "      <td>Maroon 5</td>\n",
       "      <td>twenty one pilots</td>\n",
       "      <td>The Chainsmokers &amp; Coldplay</td>\n",
       "      <td>Post Malone Featuring 21 Savage</td>\n",
       "      <td>Post Malone</td>\n",
       "    </tr>\n",
       "  </tbody>\n",
       "</table>\n",
       "<p>5 rows × 50 columns</p>\n",
       "</div>"
      ],
      "text/plain": [
       "         Artist 1970      Artist 1971         Artist 1972    Artist 1973  \\\n",
       "0  Simon & Garfunkel  Three Dog Night  Gilbert O'Sullivan      Jim Croce   \n",
       "1         Carpenters      Rod Stewart          Don McLean  Roberta Flack   \n",
       "2      The Guess Who      Carole King             Nilsson    Marvin Gaye   \n",
       "3        B.J. Thomas         Bee Gees             Joe Tex     Elton John   \n",
       "4        Edwin Starr     Donny Osmond        Bill Withers  Billy Preston   \n",
       "\n",
       "                Artist 1974         Artist 1975            Artist 1976  \\\n",
       "0          Barbra Streisand  Captain & Tennille                  Wings   \n",
       "1               Terry Jacks       Glen Campbell  Elton John & Kiki Dee   \n",
       "2  Love Unlimited Orchestra          Elton John         Johnnie Taylor   \n",
       "3                   Redbone       Freddy Fender            Wild Cherry   \n",
       "4                 Jackson 5       Frankie Valli             Paul Simon   \n",
       "\n",
       "    Artist 1977  Artist 1978     Artist 1979  ...  \\\n",
       "0   Rod Stewart    Andy Gibb       The Knack  ...   \n",
       "1     Andy Gibb     Bee Gees    Donna Summer  ...   \n",
       "2  The Emotions  Debby Boone            Chic  ...   \n",
       "3           Hot     Bee Gees     Rod Stewart  ...   \n",
       "4   Kenny Nolan        Exile  Peaches & Herb  ...   \n",
       "\n",
       "                       Artist 2010                                Artist 2011  \\\n",
       "0                            Ke$ha                                      Adele   \n",
       "1                  Lady Antebellum  LMFAO Featuring Lauren Bennett & GoonRock   \n",
       "2                            Train                                 Katy Perry   \n",
       "3  Katy Perry Featuring Snoop Dogg            Katy Perry Featuring Kanye West   \n",
       "4        Usher Featuring will.i.am  Pitbull Featuring Ne-Yo, Afrojack & Nayer   \n",
       "\n",
       "                      Artist 2012  \\\n",
       "0          Gotye Featuring Kimbra   \n",
       "1                Carly Rae Jepsen   \n",
       "2    fun. Featuring Janelle Monae   \n",
       "3  Maroon 5 Featuring Wiz Khalifa   \n",
       "4                  Ellie Goulding   \n",
       "\n",
       "                                    Artist 2013  \\\n",
       "0        Macklemore & Ryan Lewis Featuring Wanz   \n",
       "1        Robin Thicke Featuring T.I. + Pharrell   \n",
       "2                               Imagine Dragons   \n",
       "3                                        Baauer   \n",
       "4  Macklemore & Ryan Lewis Featuring Ray Dalton   \n",
       "\n",
       "                        Artist 2014                         Artist 2015  \\\n",
       "0                 Pharrell Williams    Mark Ronson Featuring Bruno Mars   \n",
       "1      Katy Perry Featuring Juicy J                          Ed Sheeran   \n",
       "2                       John Legend  Wiz Khalifa Featuring Charlie Puth   \n",
       "3  Iggy Azalea Featuring Charli XCX                           Fetty Wap   \n",
       "4                       OneRepublic                            Maroon 5   \n",
       "\n",
       "                     Artist 2016  \\\n",
       "0                  Justin Bieber   \n",
       "1                  Justin Bieber   \n",
       "2  Drake Featuring WizKid & Kyla   \n",
       "3        Rihanna Featuring Drake   \n",
       "4              twenty one pilots   \n",
       "\n",
       "                                         Artist 2017  \\\n",
       "0                                         Ed Sheeran   \n",
       "1  Luis Fonsi & Daddy Yankee Featuring Justin Bieber   \n",
       "2                                         Bruno Mars   \n",
       "3                                     Kendrick Lamar   \n",
       "4                        The Chainsmokers & Coldplay   \n",
       "\n",
       "                           Artist 2018                          Artist 2019  \n",
       "0                                Drake  Lil Nas X Featuring Billy Ray Cyrus  \n",
       "1                           Ed Sheeran               Post Malone & Swae Lee  \n",
       "2    Bebe Rexha & Florida Georgia Line                               Halsey  \n",
       "3  Camila Cabello Featuring Young Thug                        Billie Eilish  \n",
       "4      Post Malone Featuring 21 Savage                          Post Malone  \n",
       "\n",
       "[5 rows x 50 columns]"
      ]
     },
     "execution_count": 45,
     "metadata": {},
     "output_type": "execute_result"
    }
   ],
   "source": [
    "hits_years_artists_df.head()"
   ]
  },
  {
   "cell_type": "code",
   "execution_count": 70,
   "metadata": {},
   "outputs": [],
   "source": [
    "artist_70=[]\n",
    "for year in hits_years_artists_df.loc[:,\"Artist 1970\":\"Artist 1979\"]:\n",
    "    for song in range(len(hits_years_artists_df[year])):\n",
    "        artist_70.append(hits_years_artists_df[year][song])\n",
    "     \n",
    "    \n",
    "artist_80=[]\n",
    "for year in hits_years_artists_df.loc[:,\"Artist 1980\":\"Artist 1989\"]:\n",
    "    for song in range(len(hits_years_artists_df[year])):\n",
    "        artist_80.append(hits_years_artists_df[year][song])\n",
    "        \n",
    "        \n",
    "artist_90=[]\n",
    "for year in hits_years_artists_df.loc[:,\"Artist 1990\":\"Artist 1999\"]:\n",
    "    for song in range(len(hits_years_artists_df[year])):\n",
    "        artist_90.append(hits_years_artists_df[year][song])\n",
    "\n",
    "        \n",
    "artist_00=[]\n",
    "for year in hits_years_artists_df.loc[:,\"Artist 2000\":\"Artist 2009\"]:\n",
    "    for song in range(len(hits_years_artists_df[year])):\n",
    "        artist_00.append(hits_years_artists_df[year][song])\n",
    "\n",
    "        \n",
    "artist_10=[]\n",
    "for year in hits_years_artists_df.loc[:,\"Artist 2010\":\"Artist 2019\"]:\n",
    "    for song in range(len(hits_years_artists_df[year])):\n",
    "        artist_10.append(hits_years_artists_df[year][song])"
   ]
  },
  {
   "cell_type": "code",
   "execution_count": 71,
   "metadata": {},
   "outputs": [],
   "source": [
    "old_artists = {\"'70s\":artist_70,\n",
    "                        \"'80s\":artist_80,\n",
    "                        \"'90s\":artist_90,\n",
    "                        \"'00s\":artist_00,\n",
    "                        \"'10s\":artist_10}"
   ]
  },
  {
   "cell_type": "code",
   "execution_count": 72,
   "metadata": {},
   "outputs": [],
   "source": [
    "old_artists_df = pd.DataFrame(old_artists)"
   ]
  },
  {
   "cell_type": "code",
   "execution_count": 73,
   "metadata": {},
   "outputs": [],
   "source": [
    "old_artists_df.to_csv(\"./old_artists.csv\")"
   ]
  },
  {
   "cell_type": "code",
   "execution_count": 46,
   "metadata": {},
   "outputs": [],
   "source": [
    "artist_70=[]\n",
    "for year in hits_years_artists_df.loc[:,\"Artist 1970\":\"Artist 1979\"]:\n",
    "    for song in range(len(hits_years_artists_df[year])):\n",
    "        artist_70.append(hits_years_artists_df[year][song])"
   ]
  },
  {
   "cell_type": "code",
   "execution_count": 66,
   "metadata": {},
   "outputs": [
    {
     "data": {
      "text/plain": [
       "1000"
      ]
     },
     "execution_count": 66,
     "metadata": {},
     "output_type": "execute_result"
    }
   ],
   "source": [
    "len(artist_80)"
   ]
  },
  {
   "cell_type": "code",
   "execution_count": null,
   "metadata": {},
   "outputs": [],
   "source": []
  },
  {
   "cell_type": "code",
   "execution_count": null,
   "metadata": {},
   "outputs": [],
   "source": []
  },
  {
   "cell_type": "code",
   "execution_count": null,
   "metadata": {},
   "outputs": [],
   "source": []
  },
  {
   "cell_type": "code",
   "execution_count": null,
   "metadata": {},
   "outputs": [],
   "source": []
  }
 ],
 "metadata": {
  "kernelspec": {
   "display_name": "Python 3",
   "language": "python",
   "name": "python3"
  },
  "language_info": {
   "codemirror_mode": {
    "name": "ipython",
    "version": 3
   },
   "file_extension": ".py",
   "mimetype": "text/x-python",
   "name": "python",
   "nbconvert_exporter": "python",
   "pygments_lexer": "ipython3",
   "version": "3.7.4"
  }
 },
 "nbformat": 4,
 "nbformat_minor": 2
}
