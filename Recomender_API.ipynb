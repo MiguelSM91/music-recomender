{
 "cells": [
  {
   "cell_type": "code",
   "execution_count": 1,
   "metadata": {},
   "outputs": [],
   "source": [
    "import pandas as pd"
   ]
  },
  {
   "cell_type": "code",
   "execution_count": 12,
   "metadata": {},
   "outputs": [],
   "source": [
    "import random"
   ]
  },
  {
   "cell_type": "code",
   "execution_count": 63,
   "metadata": {},
   "outputs": [],
   "source": [
    "import spotipy\n",
    "from spotipy.oauth2 import SpotifyClientCredentials"
   ]
  },
  {
   "cell_type": "code",
   "execution_count": 64,
   "metadata": {},
   "outputs": [],
   "source": [
    "spotify = spotipy.Spotify(client_credentials_manager=SpotifyClientCredentials(\n",
    "    client_id=\"320d32b1cdff443d9f8498b16f9cf9ea\",\n",
    "    client_secret=\"290b630ee62d4ce19b3b244984190fa6\"))"
   ]
  },
  {
   "cell_type": "code",
   "execution_count": 2,
   "metadata": {},
   "outputs": [],
   "source": [
    "hits_now = pd.read_csv(\"./hits.csv\",index_col=0)\n",
    "hits_old = pd.read_csv(\"./old_hits.csv\",index_col=0)\n",
    "songs_1000 = pd.read_csv(\"./songs_1000_clusters.csv\", index_col=0)"
   ]
  },
  {
   "cell_type": "code",
   "execution_count": 44,
   "metadata": {},
   "outputs": [],
   "source": [
    "hits_old.columns = [\"70s\",\"80s\",\"90s\",\"00s\",\"10s\"]"
   ]
  },
  {
   "cell_type": "code",
   "execution_count": 54,
   "metadata": {},
   "outputs": [
    {
     "data": {
      "text/html": [
       "<div>\n",
       "<style scoped>\n",
       "    .dataframe tbody tr th:only-of-type {\n",
       "        vertical-align: middle;\n",
       "    }\n",
       "\n",
       "    .dataframe tbody tr th {\n",
       "        vertical-align: top;\n",
       "    }\n",
       "\n",
       "    .dataframe thead th {\n",
       "        text-align: right;\n",
       "    }\n",
       "</style>\n",
       "<table border=\"1\" class=\"dataframe\">\n",
       "  <thead>\n",
       "    <tr style=\"text-align: right;\">\n",
       "      <th></th>\n",
       "      <th>70s</th>\n",
       "      <th>80s</th>\n",
       "      <th>90s</th>\n",
       "      <th>00s</th>\n",
       "      <th>10s</th>\n",
       "    </tr>\n",
       "  </thead>\n",
       "  <tbody>\n",
       "    <tr>\n",
       "      <td>0</td>\n",
       "      <td>Bridge Over Troubled Water</td>\n",
       "      <td>Magic</td>\n",
       "      <td>Hold On</td>\n",
       "      <td>Bad Day</td>\n",
       "      <td>TiK ToK</td>\n",
       "    </tr>\n",
       "    <tr>\n",
       "      <td>1</td>\n",
       "      <td>(They Long To Be) Close To You</td>\n",
       "      <td>Rock With You</td>\n",
       "      <td>Nothing Compares 2 U</td>\n",
       "      <td>Temperature</td>\n",
       "      <td>Need You Now</td>\n",
       "    </tr>\n",
       "    <tr>\n",
       "      <td>2</td>\n",
       "      <td>American Woman/No Sugar Tonight</td>\n",
       "      <td>Do That To Me One More Time</td>\n",
       "      <td>Poison</td>\n",
       "      <td>Promiscuous</td>\n",
       "      <td>Hey, Soul Sister</td>\n",
       "    </tr>\n",
       "    <tr>\n",
       "      <td>3</td>\n",
       "      <td>Raindrops Keep Fallin' On My Head</td>\n",
       "      <td>Crazy Little Thing Called Love</td>\n",
       "      <td>Vogue</td>\n",
       "      <td>You're Beautiful</td>\n",
       "      <td>California Gurls</td>\n",
       "    </tr>\n",
       "    <tr>\n",
       "      <td>4</td>\n",
       "      <td>War</td>\n",
       "      <td>Funkytown</td>\n",
       "      <td>Vision Of Love</td>\n",
       "      <td>Hips Don't Lie</td>\n",
       "      <td>OMG</td>\n",
       "    </tr>\n",
       "    <tr>\n",
       "      <td>5</td>\n",
       "      <td>Ain't No Mountain High Enough</td>\n",
       "      <td>The Rose</td>\n",
       "      <td>Another Day In Paradise</td>\n",
       "      <td>Unwritten</td>\n",
       "      <td>Airplanes</td>\n",
       "    </tr>\n",
       "    <tr>\n",
       "      <td>6</td>\n",
       "      <td>I'll Be There</td>\n",
       "      <td>Escape</td>\n",
       "      <td>Hold On</td>\n",
       "      <td>Crazy</td>\n",
       "      <td>Love The Way You Lie</td>\n",
       "    </tr>\n",
       "    <tr>\n",
       "      <td>7</td>\n",
       "      <td>Get Ready</td>\n",
       "      <td>Cars</td>\n",
       "      <td>Do Me!</td>\n",
       "      <td>Ridin'</td>\n",
       "      <td>Bad Romance</td>\n",
       "    </tr>\n",
       "    <tr>\n",
       "      <td>8</td>\n",
       "      <td>Let It Be</td>\n",
       "      <td>CRUISIN'</td>\n",
       "      <td>How Am I Supposed To Live Without You</td>\n",
       "      <td>SexyBack</td>\n",
       "      <td>Dynamite</td>\n",
       "    </tr>\n",
       "    <tr>\n",
       "      <td>9</td>\n",
       "      <td>Band Of Gold</td>\n",
       "      <td>Lost In Love</td>\n",
       "      <td>Opposites Attract</td>\n",
       "      <td>Check On It</td>\n",
       "      <td>Break Your Heart</td>\n",
       "    </tr>\n",
       "    <tr>\n",
       "      <td>10</td>\n",
       "      <td>Mama Told Me (Not To Come)</td>\n",
       "      <td>Little Jeannie</td>\n",
       "      <td>Escapade</td>\n",
       "      <td>Be Without You</td>\n",
       "      <td>Nothin' On You</td>\n",
       "    </tr>\n",
       "    <tr>\n",
       "      <td>11</td>\n",
       "      <td>Everything Is Beautiful</td>\n",
       "      <td>Ride Like The Wind</td>\n",
       "      <td>All I Wanna Do Is Make Love To You</td>\n",
       "      <td>Grillz</td>\n",
       "      <td>I Like It</td>\n",
       "    </tr>\n",
       "    <tr>\n",
       "      <td>12</td>\n",
       "      <td>Make It With You</td>\n",
       "      <td>Upside Down</td>\n",
       "      <td>Close To You</td>\n",
       "      <td>Over My Head (Cable Car)</td>\n",
       "      <td>BedRock</td>\n",
       "    </tr>\n",
       "    <tr>\n",
       "      <td>13</td>\n",
       "      <td>Hitchin' A Ride</td>\n",
       "      <td>Babe</td>\n",
       "      <td>Black Velvet</td>\n",
       "      <td>Me &amp; U</td>\n",
       "      <td>In My Head</td>\n",
       "    </tr>\n",
       "    <tr>\n",
       "      <td>14</td>\n",
       "      <td>ABC</td>\n",
       "      <td>With You I'm Born Again</td>\n",
       "      <td>Release Me</td>\n",
       "      <td>Buttons</td>\n",
       "      <td>Rude Boy</td>\n",
       "    </tr>\n",
       "    <tr>\n",
       "      <td>15</td>\n",
       "      <td>The Love You Save/I Found That Girl</td>\n",
       "      <td>Shining Star</td>\n",
       "      <td>Don't Know Much</td>\n",
       "      <td>Run It!</td>\n",
       "      <td>Telephone</td>\n",
       "    </tr>\n",
       "    <tr>\n",
       "      <td>16</td>\n",
       "      <td>Cracklin' Rosie</td>\n",
       "      <td>Still</td>\n",
       "      <td>All Around The World</td>\n",
       "      <td>So Sick</td>\n",
       "      <td>Teenage Dream</td>\n",
       "    </tr>\n",
       "    <tr>\n",
       "      <td>17</td>\n",
       "      <td>Candida</td>\n",
       "      <td>Sexy Eyes</td>\n",
       "      <td>I Wanna Be Rich</td>\n",
       "      <td>It's Goin' Down</td>\n",
       "      <td>Just The Way You Are</td>\n",
       "    </tr>\n",
       "    <tr>\n",
       "      <td>18</td>\n",
       "      <td>Spirit In The Sky</td>\n",
       "      <td>Steal Away</td>\n",
       "      <td>Rub You The Right Way</td>\n",
       "      <td>SOS</td>\n",
       "      <td>Cooler Than Me</td>\n",
       "    </tr>\n",
       "    <tr>\n",
       "      <td>19</td>\n",
       "      <td>Lay Down (Candles In The Rain)</td>\n",
       "      <td>Biggest Part Of Me</td>\n",
       "      <td>She Ain't Worth It</td>\n",
       "      <td>I Write Sins Not Tragedies</td>\n",
       "      <td>Imma Be</td>\n",
       "    </tr>\n",
       "  </tbody>\n",
       "</table>\n",
       "</div>"
      ],
      "text/plain": [
       "                                    70s                             80s  \\\n",
       "0            Bridge Over Troubled Water                           Magic   \n",
       "1        (They Long To Be) Close To You                   Rock With You   \n",
       "2       American Woman/No Sugar Tonight     Do That To Me One More Time   \n",
       "3     Raindrops Keep Fallin' On My Head  Crazy Little Thing Called Love   \n",
       "4                                   War                       Funkytown   \n",
       "5         Ain't No Mountain High Enough                        The Rose   \n",
       "6                         I'll Be There                          Escape   \n",
       "7                             Get Ready                            Cars   \n",
       "8                             Let It Be                        CRUISIN'   \n",
       "9                          Band Of Gold                    Lost In Love   \n",
       "10           Mama Told Me (Not To Come)                  Little Jeannie   \n",
       "11              Everything Is Beautiful              Ride Like The Wind   \n",
       "12                     Make It With You                     Upside Down   \n",
       "13                      Hitchin' A Ride                            Babe   \n",
       "14                                  ABC         With You I'm Born Again   \n",
       "15  The Love You Save/I Found That Girl                    Shining Star   \n",
       "16                      Cracklin' Rosie                           Still   \n",
       "17                              Candida                       Sexy Eyes   \n",
       "18                    Spirit In The Sky                      Steal Away   \n",
       "19       Lay Down (Candles In The Rain)              Biggest Part Of Me   \n",
       "\n",
       "                                      90s                         00s  \\\n",
       "0                                 Hold On                     Bad Day   \n",
       "1                    Nothing Compares 2 U                 Temperature   \n",
       "2                                  Poison                 Promiscuous   \n",
       "3                                   Vogue            You're Beautiful   \n",
       "4                          Vision Of Love              Hips Don't Lie   \n",
       "5                 Another Day In Paradise                   Unwritten   \n",
       "6                                 Hold On                       Crazy   \n",
       "7                                  Do Me!                      Ridin'   \n",
       "8   How Am I Supposed To Live Without You                    SexyBack   \n",
       "9                       Opposites Attract                 Check On It   \n",
       "10                               Escapade              Be Without You   \n",
       "11     All I Wanna Do Is Make Love To You                      Grillz   \n",
       "12                           Close To You    Over My Head (Cable Car)   \n",
       "13                           Black Velvet                      Me & U   \n",
       "14                             Release Me                     Buttons   \n",
       "15                        Don't Know Much                     Run It!   \n",
       "16                   All Around The World                     So Sick   \n",
       "17                        I Wanna Be Rich             It's Goin' Down   \n",
       "18                  Rub You The Right Way                         SOS   \n",
       "19                     She Ain't Worth It  I Write Sins Not Tragedies   \n",
       "\n",
       "                     10s  \n",
       "0                TiK ToK  \n",
       "1           Need You Now  \n",
       "2       Hey, Soul Sister  \n",
       "3       California Gurls  \n",
       "4                    OMG  \n",
       "5              Airplanes  \n",
       "6   Love The Way You Lie  \n",
       "7            Bad Romance  \n",
       "8               Dynamite  \n",
       "9       Break Your Heart  \n",
       "10        Nothin' On You  \n",
       "11             I Like It  \n",
       "12               BedRock  \n",
       "13            In My Head  \n",
       "14              Rude Boy  \n",
       "15             Telephone  \n",
       "16         Teenage Dream  \n",
       "17  Just The Way You Are  \n",
       "18        Cooler Than Me  \n",
       "19               Imma Be  "
      ]
     },
     "execution_count": 54,
     "metadata": {},
     "output_type": "execute_result"
    }
   ],
   "source": [
    "hits_old.head(20)"
   ]
  },
  {
   "cell_type": "code",
   "execution_count": 27,
   "metadata": {},
   "outputs": [
    {
     "name": "stdout",
     "output_type": "stream",
     "text": [
      "Hello! Please, write a song or artist you like. \n",
      "\n",
      "ariana\n",
      "\n",
      "Maybe you would like this song: Some girls\n"
     ]
    }
   ],
   "source": [
    "# esto funciona:\n",
    "print(\"Hello! Please, write a song or artist you like. \\n\")\n",
    "request = input().title()\n",
    "\n",
    "if hits_now[\"song\"].str.contains(request).any():\n",
    "    print(\"\\nMaybe you would like this song:\", random.choice(hits_now[\"song\"]).capitalize())\n",
    "    \n",
    "elif hits_now[\"artist\"].str.contains(request).any():\n",
    "    print(\"\\nMaybe you would like this song:\",random.choice(hits_now[\"song\"]).capitalize())\n",
    "    \n",
    "else:\n",
    "    print(\"\\nUnder construction\")"
   ]
  },
  {
   "cell_type": "code",
   "execution_count": 46,
   "metadata": {},
   "outputs": [
    {
     "data": {
      "text/plain": [
       "0               TiK ToK\n",
       "1          Need You Now\n",
       "2      Hey, Soul Sister\n",
       "3      California Gurls\n",
       "4                   OMG\n",
       "             ...       \n",
       "995         Eyes On You\n",
       "996       All To Myself\n",
       "997           Boyfriend\n",
       "998        Walk Me Home\n",
       "999             Robbery\n",
       "Name: 10s, Length: 1000, dtype: object"
      ]
     },
     "execution_count": 46,
     "metadata": {},
     "output_type": "execute_result"
    }
   ],
   "source": [
    "hits_old[\"10s\"]"
   ]
  },
  {
   "cell_type": "code",
   "execution_count": 56,
   "metadata": {},
   "outputs": [
    {
     "name": "stdout",
     "output_type": "stream",
     "text": [
      "Hello! Please, write a song or artist you like. \n",
      "\n",
      "war\n",
      "\n",
      "Great song from the '80s! This one was also great: Solitaire\n"
     ]
    }
   ],
   "source": [
    "#this works\n",
    "\n",
    "print(\"Hello! Please, write a song or artist you like. \\n\")\n",
    "request = input().title()\n",
    "\n",
    "if hits_now[\"song\"].str.contains(request).any():\n",
    "    print(\"\\nMaybe you would like this song:\", random.choice(hits_now[\"song\"]).capitalize())\n",
    "    \n",
    "elif hits_old[\"10s\"].str.contains(request).any():\n",
    "    print(\"\\nGreat song from last decade! This one was also great:\", random.choice(hits_old[\"10s\"]).capitalize())\n",
    "        \n",
    "elif hits_old[\"00s\"].str.contains(request).any():\n",
    "    print(\"\\nGreat song from the beggining of this century! This one was also great:\", random.choice(hits_old[\"00s\"]).capitalize())\n",
    "        \n",
    "elif hits_old[\"90s\"].str.contains(request).any():\n",
    "    print(\"\\nGreat song from the '90s! This one was also great:\", random.choice(hits_old[\"90s\"]).capitalize())\n",
    "        \n",
    "elif hits_old[\"80s\"].str.contains(request).any():\n",
    "    print(\"\\nGreat song from the '80s! This one was also great:\", random.choice(hits_old[\"80s\"]).capitalize())\n",
    "        \n",
    "elif hits_old[\"70s\"].str.contains(request).any():\n",
    "    print(\"\\nGreat song from the '70s! This one was also great:\", random.choice(hits_old[\"70s\"]).capitalize())"
   ]
  },
  {
   "cell_type": "code",
   "execution_count": null,
   "metadata": {},
   "outputs": [],
   "source": []
  },
  {
   "cell_type": "code",
   "execution_count": 62,
   "metadata": {},
   "outputs": [
    {
     "name": "stdout",
     "output_type": "stream",
     "text": [
      "Hello! Please, write a song or artist you like. \n",
      "\n",
      "escapade\n",
      "\n",
      "Great song from the '90s! This one was also great: For you i will (confidence)\n"
     ]
    }
   ],
   "source": [
    "#this works\n",
    "print(\"Hello! Please, write a song or artist you like. \\n\")\n",
    "request = input().title()\n",
    "\n",
    "if request in list(hits_now[\"song\"]):\n",
    "    print(\"\\nMaybe you would like this song:\", random.choice(hits_now[\"song\"]).capitalize())\n",
    "    \n",
    "elif request in list(hits_old[\"10s\"]):\n",
    "    print(\"\\nGreat song from last decade! This one was also great:\", random.choice(hits_old[\"10s\"]).capitalize())\n",
    "        \n",
    "elif request in list(hits_old[\"00s\"]):\n",
    "    print(\"\\nGreat song from the beggining of this century! This one was also great:\", random.choice(hits_old[\"00s\"]).capitalize())\n",
    "        \n",
    "elif request in list(hits_old[\"90s\"]):\n",
    "    print(\"\\nGreat song from the '90s! This one was also great:\", random.choice(hits_old[\"90s\"]).capitalize())\n",
    "        \n",
    "elif request in list(hits_old[\"80s\"]):\n",
    "    print(\"\\nGreat song from the '80s! This one was also great:\", random.choice(hits_old[\"80s\"]).capitalize())\n",
    "        \n",
    "elif request in list(hits_old[\"70s\"]):\n",
    "    print(\"\\nGreat song from the '70s! This one was also great:\", random.choice(hits_old[\"70s\"]).capitalize())"
   ]
  },
  {
   "cell_type": "code",
   "execution_count": null,
   "metadata": {},
   "outputs": [],
   "source": []
  },
  {
   "cell_type": "code",
   "execution_count": null,
   "metadata": {},
   "outputs": [],
   "source": [
    "print(\"Hello! Please, write a song or artist you like. \\n\")\n",
    "request = input().title()\n",
    "\n",
    "if request in list(hits_now[\"song\"]):\n",
    "    print(\"\\nMaybe you would like this song:\", random.choice(hits_now[\"song\"]).capitalize())\n",
    "    \n",
    "elif request in list(hits_old[\"10s\"]):\n",
    "    print(\"\\nGreat song from last decade! This one was also great:\", random.choice(hits_old[\"10s\"]).capitalize())\n",
    "        \n",
    "elif request in list(hits_old[\"00s\"]):\n",
    "    print(\"\\nGreat song from the beggining of this century! This one was also great:\", random.choice(hits_old[\"00s\"]).capitalize())\n",
    "        \n",
    "elif request in list(hits_old[\"90s\"]):\n",
    "    print(\"\\nGreat song from the '90s! This one was also great:\", random.choice(hits_old[\"90s\"]).capitalize())\n",
    "        \n",
    "elif request in list(hits_old[\"80s\"]):\n",
    "    print(\"\\nGreat song from the '80s! This one was also great:\", random.choice(hits_old[\"80s\"]).capitalize())\n",
    "        \n",
    "elif request in list(hits_old[\"70s\"]):\n",
    "    print(\"\\nGreat song from the '70s! This one was also great:\", random.choice(hits_old[\"70s\"]).capitalize())\n",
    "    \n",
    "else:\n",
    "    "
   ]
  },
  {
   "cell_type": "code",
   "execution_count": null,
   "metadata": {},
   "outputs": [],
   "source": []
  },
  {
   "cell_type": "markdown",
   "metadata": {},
   "source": [
    "### function to get features and select just Energy Tempo Danceability Instrumentalness and Valence"
   ]
  },
  {
   "cell_type": "code",
   "execution_count": 69,
   "metadata": {},
   "outputs": [],
   "source": [
    "song = spotify.search(q=\"Bohemian Rhapsody\", limit=1)"
   ]
  },
  {
   "cell_type": "code",
   "execution_count": 70,
   "metadata": {},
   "outputs": [
    {
     "data": {
      "text/plain": [
       "dict_keys(['tracks'])"
      ]
     },
     "execution_count": 70,
     "metadata": {},
     "output_type": "execute_result"
    }
   ],
   "source": [
    "song.keys()"
   ]
  },
  {
   "cell_type": "code",
   "execution_count": 72,
   "metadata": {},
   "outputs": [
    {
     "data": {
      "text/plain": [
       "dict_keys(['href', 'items', 'limit', 'next', 'offset', 'previous', 'total'])"
      ]
     },
     "execution_count": 72,
     "metadata": {},
     "output_type": "execute_result"
    }
   ],
   "source": [
    "song[\"tracks\"].keys()"
   ]
  },
  {
   "cell_type": "code",
   "execution_count": 73,
   "metadata": {},
   "outputs": [
    {
     "data": {
      "text/plain": [
       "'spotify:track:7tFiyTwD0nx5a1eklYtX2J'"
      ]
     },
     "execution_count": 73,
     "metadata": {},
     "output_type": "execute_result"
    }
   ],
   "source": [
    "song[\"tracks\"][\"items\"][0][\"uri\"]"
   ]
  },
  {
   "cell_type": "code",
   "execution_count": 74,
   "metadata": {},
   "outputs": [],
   "source": [
    "features = spotify.audio_features('spotify:track:7tFiyTwD0nx5a1eklYtX2J')[0]"
   ]
  },
  {
   "cell_type": "code",
   "execution_count": 81,
   "metadata": {},
   "outputs": [
    {
     "data": {
      "text/plain": [
       "0.228"
      ]
     },
     "execution_count": 81,
     "metadata": {},
     "output_type": "execute_result"
    }
   ],
   "source": [
    "features[\"valence\"]"
   ]
  },
  {
   "cell_type": "code",
   "execution_count": 89,
   "metadata": {},
   "outputs": [],
   "source": [
    "df = pd.DataFrame({\"energy\":features[\"energy\"],\n",
    "           \"tempo\":features[\"tempo\"],\n",
    "           \"danceabilty\":features[\"danceability\"],\n",
    "           \"instrumentalness\":features[\"instrumentalness\"],\n",
    "           \"valence\":features[\"valence\"]},index=[0])"
   ]
  },
  {
   "cell_type": "code",
   "execution_count": 90,
   "metadata": {},
   "outputs": [
    {
     "data": {
      "text/html": [
       "<div>\n",
       "<style scoped>\n",
       "    .dataframe tbody tr th:only-of-type {\n",
       "        vertical-align: middle;\n",
       "    }\n",
       "\n",
       "    .dataframe tbody tr th {\n",
       "        vertical-align: top;\n",
       "    }\n",
       "\n",
       "    .dataframe thead th {\n",
       "        text-align: right;\n",
       "    }\n",
       "</style>\n",
       "<table border=\"1\" class=\"dataframe\">\n",
       "  <thead>\n",
       "    <tr style=\"text-align: right;\">\n",
       "      <th></th>\n",
       "      <th>energy</th>\n",
       "      <th>tempo</th>\n",
       "      <th>danceabilty</th>\n",
       "      <th>instrumentalness</th>\n",
       "      <th>valence</th>\n",
       "    </tr>\n",
       "  </thead>\n",
       "  <tbody>\n",
       "    <tr>\n",
       "      <td>0</td>\n",
       "      <td>0.402</td>\n",
       "      <td>143.883</td>\n",
       "      <td>0.392</td>\n",
       "      <td>0</td>\n",
       "      <td>0.228</td>\n",
       "    </tr>\n",
       "  </tbody>\n",
       "</table>\n",
       "</div>"
      ],
      "text/plain": [
       "   energy    tempo  danceabilty  instrumentalness  valence\n",
       "0   0.402  143.883        0.392                 0    0.228"
      ]
     },
     "execution_count": 90,
     "metadata": {},
     "output_type": "execute_result"
    }
   ],
   "source": [
    "df"
   ]
  },
  {
   "cell_type": "code",
   "execution_count": 87,
   "metadata": {},
   "outputs": [],
   "source": [
    "df_df = pd.DataFrame(df,index=[0])"
   ]
  },
  {
   "cell_type": "code",
   "execution_count": 88,
   "metadata": {},
   "outputs": [
    {
     "data": {
      "text/html": [
       "<div>\n",
       "<style scoped>\n",
       "    .dataframe tbody tr th:only-of-type {\n",
       "        vertical-align: middle;\n",
       "    }\n",
       "\n",
       "    .dataframe tbody tr th {\n",
       "        vertical-align: top;\n",
       "    }\n",
       "\n",
       "    .dataframe thead th {\n",
       "        text-align: right;\n",
       "    }\n",
       "</style>\n",
       "<table border=\"1\" class=\"dataframe\">\n",
       "  <thead>\n",
       "    <tr style=\"text-align: right;\">\n",
       "      <th></th>\n",
       "      <th>energy</th>\n",
       "      <th>tempo</th>\n",
       "      <th>danceabilty</th>\n",
       "      <th>instrumentalness</th>\n",
       "      <th>valence</th>\n",
       "    </tr>\n",
       "  </thead>\n",
       "  <tbody>\n",
       "    <tr>\n",
       "      <td>0</td>\n",
       "      <td>0.402</td>\n",
       "      <td>143.883</td>\n",
       "      <td>0.392</td>\n",
       "      <td>0</td>\n",
       "      <td>0.228</td>\n",
       "    </tr>\n",
       "  </tbody>\n",
       "</table>\n",
       "</div>"
      ],
      "text/plain": [
       "   energy    tempo  danceabilty  instrumentalness  valence\n",
       "0   0.402  143.883        0.392                 0    0.228"
      ]
     },
     "execution_count": 88,
     "metadata": {},
     "output_type": "execute_result"
    }
   ],
   "source": [
    "df_df"
   ]
  },
  {
   "cell_type": "code",
   "execution_count": 91,
   "metadata": {},
   "outputs": [],
   "source": [
    "def get_features(song):\n",
    "    \n",
    "    song = spotify.search(q=song, limit=1)\n",
    "    song_URI = song[\"tracks\"][\"items\"][0][\"uri\"]\n",
    "    \n",
    "    features = spotify.audio_features(song_URI)[0]\n",
    "    return pd.DataFrame({\"energy\":features[\"energy\"],\n",
    "           \"tempo\":features[\"tempo\"],\n",
    "           \"danceabilty\":features[\"danceability\"],\n",
    "           \"instrumentalness\":features[\"instrumentalness\"],\n",
    "           \"valence\":features[\"valence\"]},index=[0])"
   ]
  },
  {
   "cell_type": "code",
   "execution_count": 111,
   "metadata": {},
   "outputs": [],
   "source": [
    "everybody_df = pd.read_csv(\"./everybody_df.csv\")"
   ]
  },
  {
   "cell_type": "code",
   "execution_count": 112,
   "metadata": {},
   "outputs": [
    {
     "name": "stderr",
     "output_type": "stream",
     "text": [
      "HTTP Error for GET to https://api.spotify.com/v1/search returned 400 due to No search query\n"
     ]
    },
    {
     "name": "stdout",
     "output_type": "stream",
     "text": [
      "This is: We Can't Stop by Miley Cyrus\n"
     ]
    }
   ],
   "source": [
    "try:\n",
    "    feat = get_features(\"*\")\n",
    "    \n",
    "except:\n",
    "    title = everybody_df.sample()[\"Title\"].values[0]\n",
    "    artist = everybody_df[everyb[\"Title\"]==title][\"Artist\"].values[0]\n",
    "    print(\"This is: \" + title + \" by \"+ artist)"
   ]
  },
  {
   "cell_type": "code",
   "execution_count": 105,
   "metadata": {},
   "outputs": [
    {
     "data": {
      "text/html": [
       "<div>\n",
       "<style scoped>\n",
       "    .dataframe tbody tr th:only-of-type {\n",
       "        vertical-align: middle;\n",
       "    }\n",
       "\n",
       "    .dataframe tbody tr th {\n",
       "        vertical-align: top;\n",
       "    }\n",
       "\n",
       "    .dataframe thead th {\n",
       "        text-align: right;\n",
       "    }\n",
       "</style>\n",
       "<table border=\"1\" class=\"dataframe\">\n",
       "  <thead>\n",
       "    <tr style=\"text-align: right;\">\n",
       "      <th></th>\n",
       "      <th>energy</th>\n",
       "      <th>tempo</th>\n",
       "      <th>danceabilty</th>\n",
       "      <th>instrumentalness</th>\n",
       "      <th>valence</th>\n",
       "    </tr>\n",
       "  </thead>\n",
       "  <tbody>\n",
       "    <tr>\n",
       "      <td>0</td>\n",
       "      <td>0.425</td>\n",
       "      <td>87.064</td>\n",
       "      <td>0.567</td>\n",
       "      <td>0</td>\n",
       "      <td>0.65</td>\n",
       "    </tr>\n",
       "  </tbody>\n",
       "</table>\n",
       "</div>"
      ],
      "text/plain": [
       "   energy   tempo  danceabilty  instrumentalness  valence\n",
       "0   0.425  87.064        0.567                 0     0.65"
      ]
     },
     "execution_count": 105,
     "metadata": {},
     "output_type": "execute_result"
    }
   ],
   "source": [
    "feat"
   ]
  }
 ],
 "metadata": {
  "kernelspec": {
   "display_name": "Python 3",
   "language": "python",
   "name": "python3"
  },
  "language_info": {
   "codemirror_mode": {
    "name": "ipython",
    "version": 3
   },
   "file_extension": ".py",
   "mimetype": "text/x-python",
   "name": "python",
   "nbconvert_exporter": "python",
   "pygments_lexer": "ipython3",
   "version": "3.7.4"
  }
 },
 "nbformat": 4,
 "nbformat_minor": 2
}
