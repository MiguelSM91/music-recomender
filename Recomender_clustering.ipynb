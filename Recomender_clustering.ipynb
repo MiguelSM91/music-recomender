{
 "cells": [
  {
   "cell_type": "markdown",
   "metadata": {},
   "source": [
    "## First, import datasets"
   ]
  },
  {
   "cell_type": "code",
   "execution_count": 32,
   "metadata": {},
   "outputs": [],
   "source": [
    "import pandas as pd"
   ]
  },
  {
   "cell_type": "code",
   "execution_count": 33,
   "metadata": {},
   "outputs": [],
   "source": [
    "songs_1000 = pd.read_csv(\"./songs_1000.csv\", index_col=0)"
   ]
  },
  {
   "cell_type": "code",
   "execution_count": 34,
   "metadata": {},
   "outputs": [],
   "source": [
    "hits_now = pd.read_csv(\"./hits.csv\",index_col=0)"
   ]
  },
  {
   "cell_type": "code",
   "execution_count": 35,
   "metadata": {},
   "outputs": [],
   "source": [
    "hits_old = pd.read_csv(\"./old_hits.csv\",index_col=0)"
   ]
  },
  {
   "cell_type": "markdown",
   "metadata": {},
   "source": [
    "## Cluster songs_1000"
   ]
  },
  {
   "cell_type": "code",
   "execution_count": 36,
   "metadata": {},
   "outputs": [
    {
     "data": {
      "text/html": [
       "<div>\n",
       "<style scoped>\n",
       "    .dataframe tbody tr th:only-of-type {\n",
       "        vertical-align: middle;\n",
       "    }\n",
       "\n",
       "    .dataframe tbody tr th {\n",
       "        vertical-align: top;\n",
       "    }\n",
       "\n",
       "    .dataframe thead th {\n",
       "        text-align: right;\n",
       "    }\n",
       "</style>\n",
       "<table border=\"1\" class=\"dataframe\">\n",
       "  <thead>\n",
       "    <tr style=\"text-align: right;\">\n",
       "      <th></th>\n",
       "      <th>Title</th>\n",
       "      <th>Artist</th>\n",
       "      <th>Energy</th>\n",
       "      <th>Tempo</th>\n",
       "      <th>Danceability</th>\n",
       "      <th>Instrumentalness</th>\n",
       "      <th>Valence</th>\n",
       "    </tr>\n",
       "  </thead>\n",
       "  <tbody>\n",
       "    <tr>\n",
       "      <td>0</td>\n",
       "      <td>Imagine - Remastered 2010</td>\n",
       "      <td>John Lennon</td>\n",
       "      <td>0.257</td>\n",
       "      <td>75.752</td>\n",
       "      <td>0.547</td>\n",
       "      <td>0.183000</td>\n",
       "      <td>0.169</td>\n",
       "    </tr>\n",
       "    <tr>\n",
       "      <td>1</td>\n",
       "      <td>A Whiter Shade Of Pale</td>\n",
       "      <td>Procol Harum</td>\n",
       "      <td>0.660</td>\n",
       "      <td>149.813</td>\n",
       "      <td>0.249</td>\n",
       "      <td>0.002600</td>\n",
       "      <td>0.435</td>\n",
       "    </tr>\n",
       "    <tr>\n",
       "      <td>2</td>\n",
       "      <td>My Sweet Lord</td>\n",
       "      <td>George Harrison</td>\n",
       "      <td>0.685</td>\n",
       "      <td>120.965</td>\n",
       "      <td>0.537</td>\n",
       "      <td>0.000000</td>\n",
       "      <td>0.542</td>\n",
       "    </tr>\n",
       "    <tr>\n",
       "      <td>3</td>\n",
       "      <td>God Only Knows - Remastered</td>\n",
       "      <td>The Beach Boys</td>\n",
       "      <td>0.487</td>\n",
       "      <td>117.072</td>\n",
       "      <td>0.521</td>\n",
       "      <td>0.000000</td>\n",
       "      <td>0.483</td>\n",
       "    </tr>\n",
       "    <tr>\n",
       "      <td>4</td>\n",
       "      <td>Bridge Over Troubled Water</td>\n",
       "      <td>Simon &amp; Garfunkel</td>\n",
       "      <td>0.206</td>\n",
       "      <td>79.764</td>\n",
       "      <td>0.149</td>\n",
       "      <td>0.000649</td>\n",
       "      <td>0.264</td>\n",
       "    </tr>\n",
       "  </tbody>\n",
       "</table>\n",
       "</div>"
      ],
      "text/plain": [
       "                         Title             Artist  Energy    Tempo  \\\n",
       "0    Imagine - Remastered 2010        John Lennon   0.257   75.752   \n",
       "1       A Whiter Shade Of Pale       Procol Harum   0.660  149.813   \n",
       "2                My Sweet Lord    George Harrison   0.685  120.965   \n",
       "3  God Only Knows - Remastered     The Beach Boys   0.487  117.072   \n",
       "4   Bridge Over Troubled Water  Simon & Garfunkel   0.206   79.764   \n",
       "\n",
       "   Danceability  Instrumentalness  Valence  \n",
       "0         0.547          0.183000    0.169  \n",
       "1         0.249          0.002600    0.435  \n",
       "2         0.537          0.000000    0.542  \n",
       "3         0.521          0.000000    0.483  \n",
       "4         0.149          0.000649    0.264  "
      ]
     },
     "execution_count": 36,
     "metadata": {},
     "output_type": "execute_result"
    }
   ],
   "source": [
    "songs_1000.head()"
   ]
  },
  {
   "cell_type": "markdown",
   "metadata": {},
   "source": [
    "#### Make a selection of the columns to cluster"
   ]
  },
  {
   "cell_type": "code",
   "execution_count": 37,
   "metadata": {},
   "outputs": [],
   "source": [
    "songs_1000_toclusters = songs_1000.iloc[:,2:7]"
   ]
  },
  {
   "cell_type": "code",
   "execution_count": 38,
   "metadata": {
    "scrolled": true
   },
   "outputs": [
    {
     "data": {
      "text/html": [
       "<div>\n",
       "<style scoped>\n",
       "    .dataframe tbody tr th:only-of-type {\n",
       "        vertical-align: middle;\n",
       "    }\n",
       "\n",
       "    .dataframe tbody tr th {\n",
       "        vertical-align: top;\n",
       "    }\n",
       "\n",
       "    .dataframe thead th {\n",
       "        text-align: right;\n",
       "    }\n",
       "</style>\n",
       "<table border=\"1\" class=\"dataframe\">\n",
       "  <thead>\n",
       "    <tr style=\"text-align: right;\">\n",
       "      <th></th>\n",
       "      <th>Energy</th>\n",
       "      <th>Tempo</th>\n",
       "      <th>Danceability</th>\n",
       "      <th>Instrumentalness</th>\n",
       "      <th>Valence</th>\n",
       "    </tr>\n",
       "  </thead>\n",
       "  <tbody>\n",
       "    <tr>\n",
       "      <td>0</td>\n",
       "      <td>0.257</td>\n",
       "      <td>75.752</td>\n",
       "      <td>0.547</td>\n",
       "      <td>0.183000</td>\n",
       "      <td>0.169</td>\n",
       "    </tr>\n",
       "    <tr>\n",
       "      <td>1</td>\n",
       "      <td>0.660</td>\n",
       "      <td>149.813</td>\n",
       "      <td>0.249</td>\n",
       "      <td>0.002600</td>\n",
       "      <td>0.435</td>\n",
       "    </tr>\n",
       "    <tr>\n",
       "      <td>2</td>\n",
       "      <td>0.685</td>\n",
       "      <td>120.965</td>\n",
       "      <td>0.537</td>\n",
       "      <td>0.000000</td>\n",
       "      <td>0.542</td>\n",
       "    </tr>\n",
       "    <tr>\n",
       "      <td>3</td>\n",
       "      <td>0.487</td>\n",
       "      <td>117.072</td>\n",
       "      <td>0.521</td>\n",
       "      <td>0.000000</td>\n",
       "      <td>0.483</td>\n",
       "    </tr>\n",
       "    <tr>\n",
       "      <td>4</td>\n",
       "      <td>0.206</td>\n",
       "      <td>79.764</td>\n",
       "      <td>0.149</td>\n",
       "      <td>0.000649</td>\n",
       "      <td>0.264</td>\n",
       "    </tr>\n",
       "  </tbody>\n",
       "</table>\n",
       "</div>"
      ],
      "text/plain": [
       "   Energy    Tempo  Danceability  Instrumentalness  Valence\n",
       "0   0.257   75.752         0.547          0.183000    0.169\n",
       "1   0.660  149.813         0.249          0.002600    0.435\n",
       "2   0.685  120.965         0.537          0.000000    0.542\n",
       "3   0.487  117.072         0.521          0.000000    0.483\n",
       "4   0.206   79.764         0.149          0.000649    0.264"
      ]
     },
     "execution_count": 38,
     "metadata": {},
     "output_type": "execute_result"
    }
   ],
   "source": [
    "songs_1000_toclusters.head()"
   ]
  },
  {
   "cell_type": "markdown",
   "metadata": {},
   "source": [
    "#### Do the clustering "
   ]
  },
  {
   "cell_type": "code",
   "execution_count": 39,
   "metadata": {},
   "outputs": [],
   "source": [
    "from sklearn.preprocessing import StandardScaler"
   ]
  },
  {
   "cell_type": "code",
   "execution_count": 40,
   "metadata": {},
   "outputs": [],
   "source": [
    "scaler = StandardScaler()\n"
   ]
  },
  {
   "cell_type": "code",
   "execution_count": 41,
   "metadata": {},
   "outputs": [
    {
     "data": {
      "text/plain": [
       "StandardScaler(copy=True, with_mean=True, with_std=True)"
      ]
     },
     "execution_count": 41,
     "metadata": {},
     "output_type": "execute_result"
    }
   ],
   "source": [
    "# is to equilibrate the values of every column among each other\n",
    "scaler.fit(songs_1000_toclusters)"
   ]
  },
  {
   "cell_type": "code",
   "execution_count": 42,
   "metadata": {},
   "outputs": [
    {
     "data": {
      "text/html": [
       "<div>\n",
       "<style scoped>\n",
       "    .dataframe tbody tr th:only-of-type {\n",
       "        vertical-align: middle;\n",
       "    }\n",
       "\n",
       "    .dataframe tbody tr th {\n",
       "        vertical-align: top;\n",
       "    }\n",
       "\n",
       "    .dataframe thead th {\n",
       "        text-align: right;\n",
       "    }\n",
       "</style>\n",
       "<table border=\"1\" class=\"dataframe\">\n",
       "  <thead>\n",
       "    <tr style=\"text-align: right;\">\n",
       "      <th></th>\n",
       "      <th>Energy</th>\n",
       "      <th>Tempo</th>\n",
       "      <th>Danceability</th>\n",
       "      <th>Instrumentalness</th>\n",
       "      <th>Valence</th>\n",
       "    </tr>\n",
       "  </thead>\n",
       "  <tbody>\n",
       "    <tr>\n",
       "      <td>0</td>\n",
       "      <td>0.257</td>\n",
       "      <td>75.752</td>\n",
       "      <td>0.547</td>\n",
       "      <td>0.183000</td>\n",
       "      <td>0.169</td>\n",
       "    </tr>\n",
       "    <tr>\n",
       "      <td>1</td>\n",
       "      <td>0.660</td>\n",
       "      <td>149.813</td>\n",
       "      <td>0.249</td>\n",
       "      <td>0.002600</td>\n",
       "      <td>0.435</td>\n",
       "    </tr>\n",
       "    <tr>\n",
       "      <td>2</td>\n",
       "      <td>0.685</td>\n",
       "      <td>120.965</td>\n",
       "      <td>0.537</td>\n",
       "      <td>0.000000</td>\n",
       "      <td>0.542</td>\n",
       "    </tr>\n",
       "    <tr>\n",
       "      <td>3</td>\n",
       "      <td>0.487</td>\n",
       "      <td>117.072</td>\n",
       "      <td>0.521</td>\n",
       "      <td>0.000000</td>\n",
       "      <td>0.483</td>\n",
       "    </tr>\n",
       "    <tr>\n",
       "      <td>4</td>\n",
       "      <td>0.206</td>\n",
       "      <td>79.764</td>\n",
       "      <td>0.149</td>\n",
       "      <td>0.000649</td>\n",
       "      <td>0.264</td>\n",
       "    </tr>\n",
       "    <tr>\n",
       "      <td>...</td>\n",
       "      <td>...</td>\n",
       "      <td>...</td>\n",
       "      <td>...</td>\n",
       "      <td>...</td>\n",
       "      <td>...</td>\n",
       "    </tr>\n",
       "    <tr>\n",
       "      <td>995</td>\n",
       "      <td>0.713</td>\n",
       "      <td>102.037</td>\n",
       "      <td>0.706</td>\n",
       "      <td>0.000000</td>\n",
       "      <td>0.544</td>\n",
       "    </tr>\n",
       "    <tr>\n",
       "      <td>996</td>\n",
       "      <td>0.563</td>\n",
       "      <td>121.808</td>\n",
       "      <td>0.800</td>\n",
       "      <td>0.000000</td>\n",
       "      <td>0.961</td>\n",
       "    </tr>\n",
       "    <tr>\n",
       "      <td>997</td>\n",
       "      <td>0.660</td>\n",
       "      <td>84.345</td>\n",
       "      <td>0.664</td>\n",
       "      <td>0.000000</td>\n",
       "      <td>0.873</td>\n",
       "    </tr>\n",
       "    <tr>\n",
       "      <td>998</td>\n",
       "      <td>0.627</td>\n",
       "      <td>150.273</td>\n",
       "      <td>0.336</td>\n",
       "      <td>0.000000</td>\n",
       "      <td>0.350</td>\n",
       "    </tr>\n",
       "    <tr>\n",
       "      <td>999</td>\n",
       "      <td>0.864</td>\n",
       "      <td>105.143</td>\n",
       "      <td>0.556</td>\n",
       "      <td>0.000000</td>\n",
       "      <td>0.400</td>\n",
       "    </tr>\n",
       "  </tbody>\n",
       "</table>\n",
       "<p>1000 rows × 5 columns</p>\n",
       "</div>"
      ],
      "text/plain": [
       "     Energy    Tempo  Danceability  Instrumentalness  Valence\n",
       "0     0.257   75.752         0.547          0.183000    0.169\n",
       "1     0.660  149.813         0.249          0.002600    0.435\n",
       "2     0.685  120.965         0.537          0.000000    0.542\n",
       "3     0.487  117.072         0.521          0.000000    0.483\n",
       "4     0.206   79.764         0.149          0.000649    0.264\n",
       "..      ...      ...           ...               ...      ...\n",
       "995   0.713  102.037         0.706          0.000000    0.544\n",
       "996   0.563  121.808         0.800          0.000000    0.961\n",
       "997   0.660   84.345         0.664          0.000000    0.873\n",
       "998   0.627  150.273         0.336          0.000000    0.350\n",
       "999   0.864  105.143         0.556          0.000000    0.400\n",
       "\n",
       "[1000 rows x 5 columns]"
      ]
     },
     "execution_count": 42,
     "metadata": {},
     "output_type": "execute_result"
    }
   ],
   "source": [
    "#it has not changed\n",
    "songs_1000_toclusters"
   ]
  },
  {
   "cell_type": "code",
   "execution_count": 43,
   "metadata": {},
   "outputs": [],
   "source": [
    "tracks_scaled = scaler.transform(songs_1000_toclusters)"
   ]
  },
  {
   "cell_type": "code",
   "execution_count": 44,
   "metadata": {},
   "outputs": [],
   "source": [
    "tracks_scaled_df = pd.DataFrame(tracks_scaled)"
   ]
  },
  {
   "cell_type": "code",
   "execution_count": 45,
   "metadata": {},
   "outputs": [
    {
     "data": {
      "text/html": [
       "<div>\n",
       "<style scoped>\n",
       "    .dataframe tbody tr th:only-of-type {\n",
       "        vertical-align: middle;\n",
       "    }\n",
       "\n",
       "    .dataframe tbody tr th {\n",
       "        vertical-align: top;\n",
       "    }\n",
       "\n",
       "    .dataframe thead th {\n",
       "        text-align: right;\n",
       "    }\n",
       "</style>\n",
       "<table border=\"1\" class=\"dataframe\">\n",
       "  <thead>\n",
       "    <tr style=\"text-align: right;\">\n",
       "      <th></th>\n",
       "      <th>0</th>\n",
       "      <th>1</th>\n",
       "      <th>2</th>\n",
       "      <th>3</th>\n",
       "      <th>4</th>\n",
       "    </tr>\n",
       "  </thead>\n",
       "  <tbody>\n",
       "    <tr>\n",
       "      <td>0</td>\n",
       "      <td>-1.478364</td>\n",
       "      <td>-1.609970</td>\n",
       "      <td>-0.046010</td>\n",
       "      <td>1.004620</td>\n",
       "      <td>-1.653894</td>\n",
       "    </tr>\n",
       "    <tr>\n",
       "      <td>1</td>\n",
       "      <td>0.378061</td>\n",
       "      <td>1.041801</td>\n",
       "      <td>-2.021643</td>\n",
       "      <td>-0.261404</td>\n",
       "      <td>-0.604205</td>\n",
       "    </tr>\n",
       "    <tr>\n",
       "      <td>2</td>\n",
       "      <td>0.493223</td>\n",
       "      <td>0.008892</td>\n",
       "      <td>-0.112306</td>\n",
       "      <td>-0.279651</td>\n",
       "      <td>-0.181962</td>\n",
       "    </tr>\n",
       "    <tr>\n",
       "      <td>3</td>\n",
       "      <td>-0.418866</td>\n",
       "      <td>-0.130498</td>\n",
       "      <td>-0.218380</td>\n",
       "      <td>-0.279651</td>\n",
       "      <td>-0.414788</td>\n",
       "    </tr>\n",
       "    <tr>\n",
       "      <td>4</td>\n",
       "      <td>-1.713296</td>\n",
       "      <td>-1.466320</td>\n",
       "      <td>-2.684607</td>\n",
       "      <td>-0.275096</td>\n",
       "      <td>-1.279005</td>\n",
       "    </tr>\n",
       "  </tbody>\n",
       "</table>\n",
       "</div>"
      ],
      "text/plain": [
       "          0         1         2         3         4\n",
       "0 -1.478364 -1.609970 -0.046010  1.004620 -1.653894\n",
       "1  0.378061  1.041801 -2.021643 -0.261404 -0.604205\n",
       "2  0.493223  0.008892 -0.112306 -0.279651 -0.181962\n",
       "3 -0.418866 -0.130498 -0.218380 -0.279651 -0.414788\n",
       "4 -1.713296 -1.466320 -2.684607 -0.275096 -1.279005"
      ]
     },
     "execution_count": 45,
     "metadata": {},
     "output_type": "execute_result"
    }
   ],
   "source": [
    "tracks_scaled_df.head()"
   ]
  },
  {
   "cell_type": "code",
   "execution_count": 48,
   "metadata": {},
   "outputs": [
    {
     "data": {
      "text/plain": [
       "0   -4.110046e-16\n",
       "1   -1.076916e-16\n",
       "2    1.706343e-16\n",
       "3   -1.122435e-16\n",
       "4   -3.992362e-16\n",
       "dtype: float64"
      ]
     },
     "execution_count": 48,
     "metadata": {},
     "output_type": "execute_result"
    }
   ],
   "source": [
    "tracks_scaled_df.mean(axis=0)"
   ]
  },
  {
   "cell_type": "markdown",
   "metadata": {},
   "source": [
    "#### KMeans"
   ]
  },
  {
   "cell_type": "code",
   "execution_count": 26,
   "metadata": {},
   "outputs": [],
   "source": [
    "from sklearn.cluster import KMeans"
   ]
  },
  {
   "cell_type": "code",
   "execution_count": 49,
   "metadata": {},
   "outputs": [],
   "source": [
    "kmeans = KMeans()"
   ]
  },
  {
   "cell_type": "code",
   "execution_count": 50,
   "metadata": {},
   "outputs": [
    {
     "data": {
      "text/plain": [
       "KMeans(algorithm='auto', copy_x=True, init='k-means++', max_iter=300,\n",
       "       n_clusters=8, n_init=10, n_jobs=None, precompute_distances='auto',\n",
       "       random_state=None, tol=0.0001, verbose=0)"
      ]
     },
     "execution_count": 50,
     "metadata": {},
     "output_type": "execute_result"
    }
   ],
   "source": [
    "kmeans.fit(tracks_scaled)"
   ]
  },
  {
   "cell_type": "code",
   "execution_count": 51,
   "metadata": {},
   "outputs": [],
   "source": [
    " clusters = kmeans.predict(tracks_scaled)"
   ]
  },
  {
   "cell_type": "code",
   "execution_count": 52,
   "metadata": {},
   "outputs": [
    {
     "data": {
      "text/plain": [
       "array([3, 5, 1, 1, 3, 3, 3, 7, 2, 7, 3, 2, 7, 5, 1, 5, 0, 7, 5, 7, 0, 4,\n",
       "       7, 3, 1, 3, 5, 4, 0, 6, 7, 1, 0, 6, 3, 0, 5, 6, 2, 0, 3, 7, 4, 3,\n",
       "       3, 1, 0, 7, 3, 6, 3, 3, 3, 1, 0, 2, 7, 6, 2, 7, 2, 1, 3, 6, 1, 5,\n",
       "       5, 0, 0, 1, 1, 6, 3, 6, 4, 3, 1, 3, 2, 3, 1, 0, 2, 6, 5, 0, 7, 4,\n",
       "       3, 7, 5, 0, 3, 1, 3, 0, 5, 5, 3, 6, 3, 4, 1, 5, 1, 4, 3, 3, 1, 2,\n",
       "       6, 6, 0, 7, 6, 6, 2, 0, 6, 4, 0, 3, 6, 4, 5, 2, 7, 4, 5, 0, 7, 5,\n",
       "       6, 1, 7, 6, 3, 3, 2, 2, 0, 6, 3, 5, 1, 3, 6, 7, 6, 3, 0, 7, 7, 1,\n",
       "       0, 6, 0, 2, 0, 5, 6, 1, 3, 7, 1, 5, 0, 0, 6, 1, 6, 2, 6, 3, 0, 6,\n",
       "       3, 0, 6, 1, 5, 1, 0, 7, 6, 3, 0, 4, 3, 1, 4, 5, 6, 7, 5, 3, 5, 5,\n",
       "       3, 2, 3, 4, 3, 3, 5, 3, 6, 2, 5, 0, 1, 3, 3, 6, 2, 0, 6, 6, 2, 1,\n",
       "       3, 2, 5, 7, 1, 3, 6, 1, 0, 0, 3, 5, 4, 0, 7, 6, 6, 6, 5, 0, 1, 3,\n",
       "       7, 0, 2, 2, 0, 7, 2, 2, 3, 7, 6, 5, 1, 6, 5, 3, 3, 6, 0, 1, 7, 5,\n",
       "       2, 6, 3, 3, 7, 1, 5, 2, 3, 2, 6, 6, 2, 7, 6, 0, 6, 2, 1, 6, 0, 5,\n",
       "       4, 3, 6, 3, 2, 0, 6, 3, 0, 6, 2, 5, 6, 3, 5, 6, 7, 2, 6, 6, 3, 1,\n",
       "       6, 2, 0, 5, 6, 5, 7, 7, 0, 6, 4, 0, 4, 5, 0, 1, 0, 3, 7, 7, 6, 1,\n",
       "       3, 3, 6, 5, 3, 3, 0, 2, 6, 2, 5, 2, 0, 2, 5, 4, 6, 5, 6, 3, 2, 2,\n",
       "       0, 3, 2, 0, 6, 6, 6, 0, 5, 6, 7, 5, 4, 2, 2, 3, 3, 6, 6, 6, 0, 2,\n",
       "       0, 2, 6, 2, 3, 6, 7, 1, 5, 5, 6, 5, 0, 5, 0, 6, 2, 5, 7, 1, 3, 7,\n",
       "       6, 0, 1, 7, 0, 7, 3, 6, 2, 0, 7, 3, 2, 2, 6, 5, 5, 6, 2, 6, 7, 0,\n",
       "       7, 6, 7, 7, 1, 1, 3, 5, 0, 6, 2, 2, 2, 3, 7, 4, 5, 1, 0, 7, 0, 6,\n",
       "       7, 0, 1, 5, 0, 5, 5, 2, 6, 1, 0, 5, 5, 6, 6, 5, 3, 3, 6, 4, 3, 6,\n",
       "       3, 5, 6, 4, 5, 0, 0, 3, 7, 5, 7, 6, 5, 7, 2, 3, 0, 2, 0, 1, 6, 4,\n",
       "       6, 0, 0, 6, 0, 6, 6, 0, 1, 0, 1, 3, 1, 6, 1, 1, 5, 2, 5, 5, 7, 5,\n",
       "       4, 3, 3, 5, 7, 7, 3, 2, 1, 2, 4, 6, 5, 7, 3, 3, 5, 5, 1, 0, 0, 3,\n",
       "       6, 0, 3, 6, 2, 6, 6, 1, 6, 2, 6, 6, 1, 2, 1, 1, 6, 6, 6, 0, 6, 0,\n",
       "       2, 6, 6, 2, 6, 3, 3, 7, 5, 0, 6, 7, 7, 3, 4, 2, 7, 1, 0, 6, 5, 5,\n",
       "       2, 2, 0, 5, 0, 7, 6, 4, 2, 5, 7, 2, 7, 6, 6, 0, 5, 5, 6, 6, 3, 1,\n",
       "       4, 1, 1, 4, 6, 5, 0, 3, 1, 3, 5, 7, 3, 0, 1, 0, 6, 6, 0, 2, 1, 2,\n",
       "       4, 2, 2, 6, 5, 2, 7, 2, 6, 6, 6, 5, 2, 5, 6, 0, 1, 5, 3, 5, 1, 7,\n",
       "       7, 6, 5, 6, 2, 3, 7, 6, 3, 6, 0, 2, 0, 7, 2, 2, 0, 1, 6, 1, 5, 0,\n",
       "       3, 2, 4, 1, 1, 5, 3, 1, 0, 1, 6, 1, 3, 2, 0, 1, 1, 3, 0, 6, 6, 0,\n",
       "       0, 5, 1, 4, 0, 6, 5, 1, 3, 5, 6, 1, 7, 3, 6, 4, 1, 1, 7, 6, 6, 0,\n",
       "       5, 3, 6, 0, 7, 7, 6, 1, 5, 5, 4, 1, 1, 6, 2, 6, 6, 6, 0, 0, 7, 1,\n",
       "       0, 5, 0, 6, 7, 3, 3, 6, 1, 1, 5, 0, 0, 5, 1, 2, 7, 7, 1, 6, 0, 1,\n",
       "       6, 0, 3, 0, 1, 1, 2, 1, 2, 1, 1, 6, 5, 2, 6, 1, 6, 1, 7, 2, 1, 6,\n",
       "       5, 0, 7, 3, 1, 1, 0, 7, 2, 5, 1, 0, 3, 7, 6, 3, 1, 0, 6, 2, 0, 3,\n",
       "       6, 5, 1, 1, 1, 1, 4, 0, 6, 2, 7, 5, 2, 3, 3, 0, 5, 6, 6, 5, 2, 0,\n",
       "       6, 0, 6, 3, 6, 4, 7, 7, 7, 6, 0, 6, 1, 1, 5, 2, 0, 6, 1, 5, 2, 3,\n",
       "       3, 3, 1, 6, 4, 5, 5, 6, 1, 3, 6, 0, 6, 1, 6, 3, 6, 5, 7, 6, 6, 0,\n",
       "       3, 7, 3, 5, 1, 0, 0, 2, 1, 7, 3, 2, 4, 0, 6, 3, 1, 7, 6, 7, 6, 4,\n",
       "       6, 6, 6, 3, 6, 0, 7, 3, 4, 6, 2, 6, 6, 5, 3, 0, 1, 4, 6, 2, 6, 7,\n",
       "       7, 7, 3, 1, 5, 0, 0, 6, 3, 6, 1, 2, 6, 3, 6, 2, 6, 7, 3, 7, 6, 1,\n",
       "       0, 6, 6, 0, 1, 0, 1, 3, 1, 6, 6, 6, 1, 1, 6, 6, 0, 0, 7, 6, 1, 6,\n",
       "       4, 7, 5, 3, 5, 0, 1, 4, 3, 5, 4, 1, 6, 6, 2, 6, 2, 5, 6, 6, 1, 6,\n",
       "       6, 0, 1, 2, 1, 6, 3, 0, 2, 3, 6, 6, 6, 0, 0, 7, 1, 2, 6, 7, 7, 6,\n",
       "       3, 0, 6, 5, 1, 1, 6, 6, 5, 1], dtype=int32)"
      ]
     },
     "execution_count": 52,
     "metadata": {},
     "output_type": "execute_result"
    }
   ],
   "source": [
    "clusters"
   ]
  },
  {
   "cell_type": "code",
   "execution_count": 53,
   "metadata": {},
   "outputs": [],
   "source": [
    "songs_1000[\"Cluster\"] = clusters"
   ]
  },
  {
   "cell_type": "code",
   "execution_count": 54,
   "metadata": {},
   "outputs": [
    {
     "data": {
      "text/html": [
       "<div>\n",
       "<style scoped>\n",
       "    .dataframe tbody tr th:only-of-type {\n",
       "        vertical-align: middle;\n",
       "    }\n",
       "\n",
       "    .dataframe tbody tr th {\n",
       "        vertical-align: top;\n",
       "    }\n",
       "\n",
       "    .dataframe thead th {\n",
       "        text-align: right;\n",
       "    }\n",
       "</style>\n",
       "<table border=\"1\" class=\"dataframe\">\n",
       "  <thead>\n",
       "    <tr style=\"text-align: right;\">\n",
       "      <th></th>\n",
       "      <th>Title</th>\n",
       "      <th>Artist</th>\n",
       "      <th>Energy</th>\n",
       "      <th>Tempo</th>\n",
       "      <th>Danceability</th>\n",
       "      <th>Instrumentalness</th>\n",
       "      <th>Valence</th>\n",
       "      <th>Cluster</th>\n",
       "    </tr>\n",
       "  </thead>\n",
       "  <tbody>\n",
       "    <tr>\n",
       "      <td>0</td>\n",
       "      <td>Imagine - Remastered 2010</td>\n",
       "      <td>John Lennon</td>\n",
       "      <td>0.257</td>\n",
       "      <td>75.752</td>\n",
       "      <td>0.547</td>\n",
       "      <td>0.183000</td>\n",
       "      <td>0.169</td>\n",
       "      <td>3</td>\n",
       "    </tr>\n",
       "    <tr>\n",
       "      <td>1</td>\n",
       "      <td>A Whiter Shade Of Pale</td>\n",
       "      <td>Procol Harum</td>\n",
       "      <td>0.660</td>\n",
       "      <td>149.813</td>\n",
       "      <td>0.249</td>\n",
       "      <td>0.002600</td>\n",
       "      <td>0.435</td>\n",
       "      <td>5</td>\n",
       "    </tr>\n",
       "    <tr>\n",
       "      <td>2</td>\n",
       "      <td>My Sweet Lord</td>\n",
       "      <td>George Harrison</td>\n",
       "      <td>0.685</td>\n",
       "      <td>120.965</td>\n",
       "      <td>0.537</td>\n",
       "      <td>0.000000</td>\n",
       "      <td>0.542</td>\n",
       "      <td>1</td>\n",
       "    </tr>\n",
       "    <tr>\n",
       "      <td>3</td>\n",
       "      <td>God Only Knows - Remastered</td>\n",
       "      <td>The Beach Boys</td>\n",
       "      <td>0.487</td>\n",
       "      <td>117.072</td>\n",
       "      <td>0.521</td>\n",
       "      <td>0.000000</td>\n",
       "      <td>0.483</td>\n",
       "      <td>1</td>\n",
       "    </tr>\n",
       "    <tr>\n",
       "      <td>4</td>\n",
       "      <td>Bridge Over Troubled Water</td>\n",
       "      <td>Simon &amp; Garfunkel</td>\n",
       "      <td>0.206</td>\n",
       "      <td>79.764</td>\n",
       "      <td>0.149</td>\n",
       "      <td>0.000649</td>\n",
       "      <td>0.264</td>\n",
       "      <td>3</td>\n",
       "    </tr>\n",
       "  </tbody>\n",
       "</table>\n",
       "</div>"
      ],
      "text/plain": [
       "                         Title             Artist  Energy    Tempo  \\\n",
       "0    Imagine - Remastered 2010        John Lennon   0.257   75.752   \n",
       "1       A Whiter Shade Of Pale       Procol Harum   0.660  149.813   \n",
       "2                My Sweet Lord    George Harrison   0.685  120.965   \n",
       "3  God Only Knows - Remastered     The Beach Boys   0.487  117.072   \n",
       "4   Bridge Over Troubled Water  Simon & Garfunkel   0.206   79.764   \n",
       "\n",
       "   Danceability  Instrumentalness  Valence  Cluster  \n",
       "0         0.547          0.183000    0.169        3  \n",
       "1         0.249          0.002600    0.435        5  \n",
       "2         0.537          0.000000    0.542        1  \n",
       "3         0.521          0.000000    0.483        1  \n",
       "4         0.149          0.000649    0.264        3  "
      ]
     },
     "execution_count": 54,
     "metadata": {},
     "output_type": "execute_result"
    }
   ],
   "source": [
    "songs_1000.head()"
   ]
  },
  {
   "cell_type": "code",
   "execution_count": 55,
   "metadata": {},
   "outputs": [],
   "source": [
    "songs_1000.to_csv(\"./songs_1000_clusters.csv\")"
   ]
  },
  {
   "cell_type": "code",
   "execution_count": null,
   "metadata": {},
   "outputs": [],
   "source": []
  },
  {
   "cell_type": "markdown",
   "metadata": {},
   "source": [
    "### Conseguir el cluster de una cancion random"
   ]
  },
  {
   "cell_type": "code",
   "execution_count": 58,
   "metadata": {},
   "outputs": [],
   "source": [
    "import spotipy\n",
    "from spotipy.oauth2 import SpotifyClientCredentials"
   ]
  },
  {
   "cell_type": "code",
   "execution_count": 59,
   "metadata": {},
   "outputs": [],
   "source": [
    "spotify = spotipy.Spotify(client_credentials_manager=SpotifyClientCredentials(\n",
    "    client_id=\"320d32b1cdff443d9f8498b16f9cf9ea\",\n",
    "    client_secret=\"290b630ee62d4ce19b3b244984190fa6\"))"
   ]
  },
  {
   "cell_type": "code",
   "execution_count": null,
   "metadata": {},
   "outputs": [],
   "source": []
  },
  {
   "cell_type": "code",
   "execution_count": 61,
   "metadata": {},
   "outputs": [],
   "source": [
    "feat = get_features(\"rabiosa\")"
   ]
  },
  {
   "cell_type": "code",
   "execution_count": null,
   "metadata": {},
   "outputs": [],
   "source": []
  },
  {
   "cell_type": "code",
   "execution_count": 65,
   "metadata": {},
   "outputs": [],
   "source": [
    "feat_scaled = pd.DataFrame(scaler.transform(feat))"
   ]
  },
  {
   "cell_type": "code",
   "execution_count": 63,
   "metadata": {},
   "outputs": [
    {
     "data": {
      "text/html": [
       "<div>\n",
       "<style scoped>\n",
       "    .dataframe tbody tr th:only-of-type {\n",
       "        vertical-align: middle;\n",
       "    }\n",
       "\n",
       "    .dataframe tbody tr th {\n",
       "        vertical-align: top;\n",
       "    }\n",
       "\n",
       "    .dataframe thead th {\n",
       "        text-align: right;\n",
       "    }\n",
       "</style>\n",
       "<table border=\"1\" class=\"dataframe\">\n",
       "  <thead>\n",
       "    <tr style=\"text-align: right;\">\n",
       "      <th></th>\n",
       "      <th>energy</th>\n",
       "      <th>tempo</th>\n",
       "      <th>danceabilty</th>\n",
       "      <th>instrumentalness</th>\n",
       "      <th>valence</th>\n",
       "    </tr>\n",
       "  </thead>\n",
       "  <tbody>\n",
       "    <tr>\n",
       "      <td>0</td>\n",
       "      <td>0.823</td>\n",
       "      <td>133.039</td>\n",
       "      <td>0.834</td>\n",
       "      <td>0</td>\n",
       "      <td>0.763</td>\n",
       "    </tr>\n",
       "  </tbody>\n",
       "</table>\n",
       "</div>"
      ],
      "text/plain": [
       "   energy    tempo  danceabilty  instrumentalness  valence\n",
       "0   0.823  133.039        0.834                 0    0.763"
      ]
     },
     "execution_count": 63,
     "metadata": {},
     "output_type": "execute_result"
    }
   ],
   "source": [
    "feat"
   ]
  },
  {
   "cell_type": "code",
   "execution_count": 66,
   "metadata": {},
   "outputs": [
    {
     "data": {
      "text/html": [
       "<div>\n",
       "<style scoped>\n",
       "    .dataframe tbody tr th:only-of-type {\n",
       "        vertical-align: middle;\n",
       "    }\n",
       "\n",
       "    .dataframe tbody tr th {\n",
       "        vertical-align: top;\n",
       "    }\n",
       "\n",
       "    .dataframe thead th {\n",
       "        text-align: right;\n",
       "    }\n",
       "</style>\n",
       "<table border=\"1\" class=\"dataframe\">\n",
       "  <thead>\n",
       "    <tr style=\"text-align: right;\">\n",
       "      <th></th>\n",
       "      <th>0</th>\n",
       "      <th>1</th>\n",
       "      <th>2</th>\n",
       "      <th>3</th>\n",
       "      <th>4</th>\n",
       "    </tr>\n",
       "  </thead>\n",
       "  <tbody>\n",
       "    <tr>\n",
       "      <td>0</td>\n",
       "      <td>1.128922</td>\n",
       "      <td>0.441204</td>\n",
       "      <td>1.856697</td>\n",
       "      <td>-0.279651</td>\n",
       "      <td>0.690148</td>\n",
       "    </tr>\n",
       "  </tbody>\n",
       "</table>\n",
       "</div>"
      ],
      "text/plain": [
       "          0         1         2         3         4\n",
       "0  1.128922  0.441204  1.856697 -0.279651  0.690148"
      ]
     },
     "execution_count": 66,
     "metadata": {},
     "output_type": "execute_result"
    }
   ],
   "source": [
    "feat_scaled"
   ]
  },
  {
   "cell_type": "code",
   "execution_count": 67,
   "metadata": {},
   "outputs": [],
   "source": [
    "feat_cluster = kmeans.predict(feat_scaled)"
   ]
  },
  {
   "cell_type": "code",
   "execution_count": 69,
   "metadata": {},
   "outputs": [
    {
     "data": {
      "text/plain": [
       "6"
      ]
     },
     "execution_count": 69,
     "metadata": {},
     "output_type": "execute_result"
    }
   ],
   "source": [
    "feat_cluster[0]"
   ]
  },
  {
   "cell_type": "code",
   "execution_count": 70,
   "metadata": {},
   "outputs": [],
   "source": [
    "# este funciona\n",
    "def get_features(song):\n",
    "    \n",
    "    song = spotify.search(q=song, limit=1)\n",
    "    song_URI = song[\"tracks\"][\"items\"][0][\"uri\"]\n",
    "    \n",
    "    features = spotify.audio_features(song_URI)[0]\n",
    "    feat = pd.DataFrame({\"energy\":features[\"energy\"],\n",
    "           \"tempo\":features[\"tempo\"],\n",
    "           \"danceabilty\":features[\"danceability\"],\n",
    "           \"instrumentalness\":features[\"instrumentalness\"],\n",
    "           \"valence\":features[\"valence\"]},index=[0])\n",
    "    \n",
    "    feat_scaled = pd.DataFrame(scaler.transform(feat))\n",
    "    feat_cluster = kmeans.predict(feat_scaled)\n",
    "    return feat_cluster[0]"
   ]
  },
  {
   "cell_type": "code",
   "execution_count": 71,
   "metadata": {},
   "outputs": [
    {
     "data": {
      "text/plain": [
       "6"
      ]
     },
     "execution_count": 71,
     "metadata": {},
     "output_type": "execute_result"
    }
   ],
   "source": [
    "get_features(\"rabiosa\")"
   ]
  },
  {
   "cell_type": "code",
   "execution_count": null,
   "metadata": {},
   "outputs": [],
   "source": []
  },
  {
   "cell_type": "markdown",
   "metadata": {},
   "source": [
    "### Devolver una canción del mismo cluster"
   ]
  },
  {
   "cell_type": "code",
   "execution_count": 79,
   "metadata": {},
   "outputs": [],
   "source": [
    "one_cluster = songs_1000[songs_1000[\"Cluster\"]==3]"
   ]
  },
  {
   "cell_type": "code",
   "execution_count": 104,
   "metadata": {},
   "outputs": [],
   "source": [
    "title = one_cluster.sample()[\"Title\"].values[0]"
   ]
  },
  {
   "cell_type": "code",
   "execution_count": 110,
   "metadata": {},
   "outputs": [],
   "source": [
    "artist = songs_1000[songs_1000[\"Title\"]==title][\"Artist\"].values[0]"
   ]
  },
  {
   "cell_type": "code",
   "execution_count": 106,
   "metadata": {},
   "outputs": [
    {
     "name": "stdout",
     "output_type": "stream",
     "text": [
      "This is: Imagine - Remastered 2010by Morris Albert\n"
     ]
    }
   ],
   "source": [
    "print(\"This is: \" + title + \"by \"+ artist)"
   ]
  },
  {
   "cell_type": "code",
   "execution_count": 105,
   "metadata": {},
   "outputs": [
    {
     "data": {
      "text/plain": [
       "'Imagine - Remastered 2010'"
      ]
     },
     "execution_count": 105,
     "metadata": {},
     "output_type": "execute_result"
    }
   ],
   "source": [
    "a"
   ]
  },
  {
   "cell_type": "code",
   "execution_count": 111,
   "metadata": {},
   "outputs": [
    {
     "data": {
      "text/plain": [
       "'John Lennon'"
      ]
     },
     "execution_count": 111,
     "metadata": {},
     "output_type": "execute_result"
    }
   ],
   "source": [
    "artist"
   ]
  },
  {
   "cell_type": "code",
   "execution_count": null,
   "metadata": {},
   "outputs": [],
   "source": []
  },
  {
   "cell_type": "code",
   "execution_count": 117,
   "metadata": {},
   "outputs": [],
   "source": [
    "def get_features(song):\n",
    "    \n",
    "    song = spotify.search(q=song, limit=1)\n",
    "    song_URI = song[\"tracks\"][\"items\"][0][\"uri\"]\n",
    "    \n",
    "    features = spotify.audio_features(song_URI)[0]\n",
    "    feat = pd.DataFrame({\"energy\":features[\"energy\"],\n",
    "           \"tempo\":features[\"tempo\"],\n",
    "           \"danceabilty\":features[\"danceability\"],\n",
    "           \"instrumentalness\":features[\"instrumentalness\"],\n",
    "           \"valence\":features[\"valence\"]},index=[0])\n",
    "    \n",
    "    feat_scaled = pd.DataFrame(scaler.transform(feat))\n",
    "    feat_cluster = kmeans.predict(feat_scaled)\n",
    "    cluster = feat_cluster[0]\n",
    "    \n",
    "    one_cluster = songs_1000[songs_1000[\"Cluster\"]==cluster]\n",
    "    title = one_cluster.sample()[\"Title\"].values[0]\n",
    "    artist = songs_1000[songs_1000[\"Title\"]==title][\"Artist\"].values[0]\n",
    "    print(\"This is: \" + title + \" by \"+ artist)"
   ]
  },
  {
   "cell_type": "code",
   "execution_count": 118,
   "metadata": {},
   "outputs": [
    {
     "name": "stdout",
     "output_type": "stream",
     "text": [
      "This is: In My Life - Remastered by The Beatles\n"
     ]
    }
   ],
   "source": [
    "get_features(\"mamma mia\")"
   ]
  },
  {
   "cell_type": "code",
   "execution_count": null,
   "metadata": {},
   "outputs": [],
   "source": []
  }
 ],
 "metadata": {
  "kernelspec": {
   "display_name": "Python 3",
   "language": "python",
   "name": "python3"
  },
  "language_info": {
   "codemirror_mode": {
    "name": "ipython",
    "version": 3
   },
   "file_extension": ".py",
   "mimetype": "text/x-python",
   "name": "python",
   "nbconvert_exporter": "python",
   "pygments_lexer": "ipython3",
   "version": "3.7.4"
  }
 },
 "nbformat": 4,
 "nbformat_minor": 2
}
